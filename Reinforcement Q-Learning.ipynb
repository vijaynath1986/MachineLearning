{
 "cells": [
  {
   "cell_type": "code",
   "execution_count": 219,
   "id": "5c32ff5f-31a0-4a9d-90be-9c8fdf6d54a4",
   "metadata": {},
   "outputs": [],
   "source": [
    "#https://www.youtube.com/watch?v=EdsFSx_ivY4\n",
    "import numpy as np"
   ]
  },
  {
   "cell_type": "code",
   "execution_count": 220,
   "id": "ab5a6922-e97f-4a19-a45f-38a5a91e6b83",
   "metadata": {},
   "outputs": [],
   "source": [
    "MATRIX_SIZE = 6"
   ]
  },
  {
   "cell_type": "code",
   "execution_count": 221,
   "id": "aaf4f4e5-8d95-4998-8d23-cd40205a7a3f",
   "metadata": {},
   "outputs": [],
   "source": [
    "R = np.matrix([\n",
    "    [-1, -1, -1, -1, 0, -1], #0\n",
    "    [-1, -1, -1, 0, -1, 100], #1\n",
    "    [-1, -1, -1, 0, -1, -1],  #2\n",
    "    [-1,  0,  0, -1, 0, -1],  #3\n",
    "    [0, -1, -1, 0, -1, 100],  #4\n",
    "    [-1, 0,-1, -1, 0, 100]])  #5"
   ]
  },
  {
   "cell_type": "code",
   "execution_count": 222,
   "id": "80958c84-f866-48f7-a12a-b5619061c9b5",
   "metadata": {},
   "outputs": [],
   "source": [
    "Q = np.matrix(np.zeros([MATRIX_SIZE, MATRIX_SIZE]))"
   ]
  },
  {
   "cell_type": "code",
   "execution_count": 223,
   "id": "77fcf858-4f4d-4878-810a-7c9e5e3ce8db",
   "metadata": {},
   "outputs": [],
   "source": [
    "initialState = 2"
   ]
  },
  {
   "cell_type": "code",
   "execution_count": 224,
   "id": "09267e0b-24e4-45d0-aa5f-c982b17f5d82",
   "metadata": {},
   "outputs": [],
   "source": [
    "gamma = 0.8"
   ]
  },
  {
   "cell_type": "code",
   "execution_count": 225,
   "id": "3748d324-fea0-4335-bd07-5617a0eef569",
   "metadata": {
    "scrolled": true
   },
   "outputs": [],
   "source": [
    "def getAvailableAction(state):\n",
    "    currentState_row = R[state,]\n",
    "    allPossibleActions = np.where(currentState_row >= 0)[1]\n",
    "    return allPossibleActions"
   ]
  },
  {
   "cell_type": "code",
   "execution_count": 226,
   "id": "7830e62f-2177-433d-9ad7-2b77631547ca",
   "metadata": {},
   "outputs": [],
   "source": [
    "allAvailableActions = getAvailableAction(initialState)"
   ]
  },
  {
   "cell_type": "code",
   "execution_count": 227,
   "id": "508a78cc-fca4-497a-b14c-4333e9d38e54",
   "metadata": {},
   "outputs": [],
   "source": [
    "def sample_next_action(allAvailableActions):\n",
    "    nextAction = (np.random.choice(allAvailableActions, 1))\n",
    "    return nextAction"
   ]
  },
  {
   "cell_type": "code",
   "execution_count": 228,
   "id": "16726c6c-3239-44c2-be99-075bfe72363a",
   "metadata": {},
   "outputs": [
    {
     "data": {
      "text/plain": [
       "array([3], dtype=int64)"
      ]
     },
     "execution_count": 228,
     "metadata": {},
     "output_type": "execute_result"
    }
   ],
   "source": [
    "action = sample_next_action(allAvailableActions)\n",
    "action"
   ]
  },
  {
   "cell_type": "code",
   "execution_count": 233,
   "id": "0848162f-a8ce-4c87-9924-927befa687c5",
   "metadata": {},
   "outputs": [],
   "source": [
    "def update(currentState, action, gamma):\n",
    "    \n",
    "    max_index = (np.where(Q[action,] == np.max(Q[action, ]))) [1]\n",
    "    if (max_index.shape[0] > 1):\n",
    "        max_index = int(np.random.choice(max_index, 1))\n",
    "    else:\n",
    "        max_index = int(max_index)\n",
    "\n",
    "    #print(\"currentstate and max of all possible actions: \", currentState, Q[action, max_index], np.max(Q[action, ]))\n",
    "    #Q(state, action) = R(state, action) + Gamma * Max[Q(next state, all possible actions)]\n",
    "    Q[currentState, action] = R[currentState, action] + gamma * np.max(Q[action, ])\n",
    "    if(np.max(Q) > 0):\n",
    "        return (np.sum(Q / np.max(Q) * 100))\n",
    "    else:\n",
    "        return (0)\n",
    "    "
   ]
  },
  {
   "cell_type": "code",
   "execution_count": 234,
   "id": "877ea0f6-ee4e-4a55-b0e2-46a0037e683e",
   "metadata": {},
   "outputs": [
    {
     "name": "stderr",
     "output_type": "stream",
     "text": [
      "C:\\Users\\vmaniara\\AppData\\Local\\Temp\\ipykernel_22176\\3962330964.py:7: DeprecationWarning: Conversion of an array with ndim > 0 to a scalar is deprecated, and will error in future. Ensure you extract a single element from your array before performing this operation. (Deprecated NumPy 1.25.)\n",
      "  max_index = int(max_index)\n"
     ]
    },
    {
     "data": {
      "text/plain": [
       "996.1842541580921"
      ]
     },
     "execution_count": 234,
     "metadata": {},
     "output_type": "execute_result"
    }
   ],
   "source": [
    "update(initialState, action, gamma)"
   ]
  },
  {
   "cell_type": "code",
   "execution_count": 237,
   "id": "d3d07a8d-ae03-4482-8f03-9d5d3d9db65e",
   "metadata": {
    "scrolled": true
   },
   "outputs": [
    {
     "name": "stderr",
     "output_type": "stream",
     "text": [
      "C:\\Users\\vmaniara\\AppData\\Local\\Temp\\ipykernel_22176\\3962330964.py:5: DeprecationWarning: Conversion of an array with ndim > 0 to a scalar is deprecated, and will error in future. Ensure you extract a single element from your array before performing this operation. (Deprecated NumPy 1.25.)\n",
      "  max_index = int(np.random.choice(max_index, 1))\n",
      "C:\\Users\\vmaniara\\AppData\\Local\\Temp\\ipykernel_22176\\3962330964.py:7: DeprecationWarning: Conversion of an array with ndim > 0 to a scalar is deprecated, and will error in future. Ensure you extract a single element from your array before performing this operation. (Deprecated NumPy 1.25.)\n",
      "  max_index = int(max_index)\n"
     ]
    }
   ],
   "source": [
    "scores = []\n",
    "for i in range(100):\n",
    "    currentState = np.random.randint(0, int(Q.shape[0]))\n",
    "    allAvailableActions = getAvailableAction(currentState)\n",
    "    action = sample_next_action(allAvailableActions)\n",
    "    score = update(currentState, action, gamma)\n",
    "    scores.append(score)\n",
    "    #print(Q)"
   ]
  },
  {
   "cell_type": "code",
   "execution_count": 238,
   "id": "55035fd6-1bc3-4a36-bdbb-424875d39f59",
   "metadata": {},
   "outputs": [
    {
     "name": "stdout",
     "output_type": "stream",
     "text": [
      "[[  0.           0.           0.           0.          80.\n",
      "    0.        ]\n",
      " [  0.           0.           0.          63.88106324   0.\n",
      "  100.        ]\n",
      " [  0.          66.87165291   0.          63.88106324   0.\n",
      "    0.        ]\n",
      " [  0.          80.          53.49732233   0.          79.66549036\n",
      "    0.        ]\n",
      " [ 63.73239229   0.           0.          63.88106324   0.\n",
      "  100.        ]\n",
      " [  0.          80.           0.           0.          79.433192\n",
      "   99.81416131]]\n"
     ]
    }
   ],
   "source": [
    "print(Q/np.max(Q) *100)"
   ]
  },
  {
   "cell_type": "code",
   "execution_count": 194,
   "id": "51528be5-a34f-4161-8bf2-24707ec3da4f",
   "metadata": {},
   "outputs": [],
   "source": [
    "#Testing"
   ]
  },
  {
   "cell_type": "code",
   "execution_count": 173,
   "id": "27f426dd-eb17-412a-a4bb-ea7a53505c80",
   "metadata": {},
   "outputs": [],
   "source": [
    "import numpy as np\n",
    "from IPython.display import Image"
   ]
  },
  {
   "cell_type": "code",
   "execution_count": 174,
   "id": "26cc6ed1-7482-4f2b-b85d-0566bb5c5a7c",
   "metadata": {},
   "outputs": [],
   "source": [
    "while currentState !=5:\n",
    "    nextState = np.where(Q[currentState, ] == np.max(Q[currentState, ]))[1]\n",
    "    steps.append(nextState[0])\n",
    "    currentState = nextState "
   ]
  },
  {
   "cell_type": "code",
   "execution_count": 175,
   "id": "cae43cbb-8943-433c-989c-8568fa4f7134",
   "metadata": {},
   "outputs": [
    {
     "data": {
      "text/plain": [
       "[1, 5]"
      ]
     },
     "execution_count": 175,
     "metadata": {},
     "output_type": "execute_result"
    }
   ],
   "source": [
    "steps"
   ]
  },
  {
   "cell_type": "code",
   "execution_count": 176,
   "id": "315d558f-25f6-45fa-881e-da29ed9a66de",
   "metadata": {},
   "outputs": [
    {
     "name": "stdout",
     "output_type": "stream",
     "text": [
      "[[  0.           0.           0.           0.          84.41464519\n",
      "    0.        ]\n",
      " [  0.           0.           0.          72.25         0.\n",
      "  100.        ]\n",
      " [  0.           0.           0.          72.25         0.\n",
      "    0.        ]\n",
      " [  0.          85.          61.4125       0.          84.41464519\n",
      "    0.        ]\n",
      " [ 71.75244841   0.           0.          72.25         0.\n",
      "   99.31134728]\n",
      " [  0.          83.46149264   0.           0.          83.0255914\n",
      "   99.8065883 ]]\n"
     ]
    }
   ],
   "source": []
  },
  {
   "cell_type": "code",
   "execution_count": null,
   "id": "04a814b3-1377-4cf8-a48a-1d5d01e2a579",
   "metadata": {},
   "outputs": [],
   "source": []
  }
 ],
 "metadata": {
  "kernelspec": {
   "display_name": "Python 3 (ipykernel)",
   "language": "python",
   "name": "python3"
  },
  "language_info": {
   "codemirror_mode": {
    "name": "ipython",
    "version": 3
   },
   "file_extension": ".py",
   "mimetype": "text/x-python",
   "name": "python",
   "nbconvert_exporter": "python",
   "pygments_lexer": "ipython3",
   "version": "3.11.5"
  }
 },
 "nbformat": 4,
 "nbformat_minor": 5
}
