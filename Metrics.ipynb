{
 "cells": [
  {
   "cell_type": "code",
   "execution_count": 1,
   "id": "0bd7232d",
   "metadata": {},
   "outputs": [],
   "source": [
    "from sklearn.metrics import explained_variance_score"
   ]
  },
  {
   "cell_type": "code",
   "execution_count": 10,
   "id": "7605f415",
   "metadata": {},
   "outputs": [],
   "source": [
    "predicted_y = [3,   2.5, 8,   9, 7, 25.5]\n",
    "actual_y =    [5.5, 3,   7.5, 9, 7.5, 25.4]"
   ]
  },
  {
   "cell_type": "code",
   "execution_count": 11,
   "id": "a635931a",
   "metadata": {},
   "outputs": [
    {
     "data": {
      "text/plain": [
       "0.9824286572152163"
      ]
     },
     "execution_count": 11,
     "metadata": {},
     "output_type": "execute_result"
    }
   ],
   "source": [
    "explained_variance_score(actual_y, predicted_y)"
   ]
  },
  {
   "cell_type": "code",
   "execution_count": 12,
   "id": "9a400d89",
   "metadata": {},
   "outputs": [],
   "source": [
    "from sklearn.metrics import max_error"
   ]
  },
  {
   "cell_type": "code",
   "execution_count": 13,
   "id": "7daae36b",
   "metadata": {},
   "outputs": [
    {
     "data": {
      "text/plain": [
       "2.5"
      ]
     },
     "execution_count": 13,
     "metadata": {},
     "output_type": "execute_result"
    }
   ],
   "source": [
    "max_error(actual_y, predicted_y)"
   ]
  },
  {
   "cell_type": "code",
   "execution_count": null,
   "id": "0be6ee15",
   "metadata": {},
   "outputs": [],
   "source": []
  }
 ],
 "metadata": {
  "kernelspec": {
   "display_name": "Python 3 (ipykernel)",
   "language": "python",
   "name": "python3"
  },
  "language_info": {
   "codemirror_mode": {
    "name": "ipython",
    "version": 3
   },
   "file_extension": ".py",
   "mimetype": "text/x-python",
   "name": "python",
   "nbconvert_exporter": "python",
   "pygments_lexer": "ipython3",
   "version": "3.9.7"
  }
 },
 "nbformat": 4,
 "nbformat_minor": 5
}
