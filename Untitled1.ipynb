{
 "cells": [
  {
   "cell_type": "code",
   "execution_count": 20,
   "id": "e0fdb9ca",
   "metadata": {},
   "outputs": [],
   "source": [
    "from sklearn.datasets import load_iris\n",
    "from sklearn.ensemble import RandomForestClassifier\n",
    "from sklearn.experimental import enable_halving_search_cv  # noqa\n",
    "from sklearn.model_selection import HalvingGridSearchCV\n",
    "from sklearn.svm import SVC\n",
    "import pandas as pd\n",
    "\n",
    "\n",
    "data = load_iris()\n"
   ]
  },
  {
   "cell_type": "code",
   "execution_count": 16,
   "id": "77bfab42",
   "metadata": {},
   "outputs": [
    {
     "data": {
      "text/plain": [
       "['sepal length (cm)',\n",
       " 'sepal width (cm)',\n",
       " 'petal length (cm)',\n",
       " 'petal width (cm)']"
      ]
     },
     "execution_count": 16,
     "metadata": {},
     "output_type": "execute_result"
    }
   ],
   "source": [
    "data.feature_names"
   ]
  },
  {
   "cell_type": "code",
   "execution_count": 18,
   "id": "b97f5909",
   "metadata": {},
   "outputs": [
    {
     "data": {
      "text/plain": [
       "array(['setosa', 'versicolor', 'virginica'], dtype='<U10')"
      ]
     },
     "execution_count": 18,
     "metadata": {},
     "output_type": "execute_result"
    }
   ],
   "source": [
    "data.target_names"
   ]
  },
  {
   "cell_type": "code",
   "execution_count": 21,
   "id": "1fa043b4",
   "metadata": {},
   "outputs": [],
   "source": [
    "param_grid= {'kernel': ('linear', 'rbf'),\n",
    "             'C': [1, 10, 100]}\n",
    "base_estimator = SVC(gamma='scale')"
   ]
  },
  {
   "cell_type": "code",
   "execution_count": 23,
   "id": "2d70daf8",
   "metadata": {},
   "outputs": [],
   "source": [
    "sh = HalvingGridSearchCV(base_estimator, param_grid, cv=5,\n",
    "                         factor=2, min_resources=20).fit(data.data, data.target)"
   ]
  },
  {
   "cell_type": "code",
   "execution_count": 25,
   "id": "3f240137",
   "metadata": {},
   "outputs": [
    {
     "data": {
      "text/plain": [
       "SVC(C=100)"
      ]
     },
     "execution_count": 25,
     "metadata": {},
     "output_type": "execute_result"
    }
   ],
   "source": [
    "sh.best_estimator_"
   ]
  },
  {
   "cell_type": "code",
   "execution_count": 26,
   "id": "c1523e2f",
   "metadata": {
    "scrolled": true
   },
   "outputs": [
    {
     "data": {
      "text/plain": [
       "{'C': 100, 'kernel': 'rbf'}"
      ]
     },
     "execution_count": 26,
     "metadata": {},
     "output_type": "execute_result"
    }
   ],
   "source": [
    "sh.best_params_"
   ]
  },
  {
   "cell_type": "code",
   "execution_count": 31,
   "id": "2c2bd4e1",
   "metadata": {},
   "outputs": [],
   "source": [
    "from sklearn.model_selection import train_test_split\n",
    "trainx, testx, trainy, testy = train_test_split(data.data, data.target, test_size=0.3)"
   ]
  },
  {
   "cell_type": "code",
   "execution_count": 33,
   "id": "8d8336b8",
   "metadata": {},
   "outputs": [
    {
     "name": "stdout",
     "output_type": "stream",
     "text": [
      "(105, 4) (45, 4) (105,) (45,)\n"
     ]
    }
   ],
   "source": [
    "print(trainx.shape, testx.shape, trainy.shape, testy.shape)"
   ]
  },
  {
   "cell_type": "code",
   "execution_count": 51,
   "id": "3ac3fc08",
   "metadata": {},
   "outputs": [],
   "source": [
    "scvObj = SVC()"
   ]
  },
  {
   "cell_type": "code",
   "execution_count": 52,
   "id": "b1cd00b6",
   "metadata": {},
   "outputs": [
    {
     "data": {
      "text/plain": [
       "SVC()"
      ]
     },
     "execution_count": 52,
     "metadata": {},
     "output_type": "execute_result"
    }
   ],
   "source": [
    "scvObj.fit(trainx,trainy)"
   ]
  },
  {
   "cell_type": "code",
   "execution_count": 53,
   "id": "e0f72e97",
   "metadata": {},
   "outputs": [],
   "source": [
    "predicty = scvObj.predict(testx)"
   ]
  },
  {
   "cell_type": "code",
   "execution_count": 54,
   "id": "1283e720",
   "metadata": {},
   "outputs": [],
   "source": [
    "from sklearn.metrics import accuracy_score, confusion_matrix"
   ]
  },
  {
   "cell_type": "code",
   "execution_count": 55,
   "id": "55a76527",
   "metadata": {},
   "outputs": [
    {
     "data": {
      "text/plain": [
       "0.9777777777777777"
      ]
     },
     "execution_count": 55,
     "metadata": {},
     "output_type": "execute_result"
    }
   ],
   "source": [
    "accuracy_score(testy, predicty)"
   ]
  },
  {
   "cell_type": "code",
   "execution_count": 56,
   "id": "4724b067",
   "metadata": {},
   "outputs": [
    {
     "data": {
      "text/plain": [
       "array([[12,  0,  0],\n",
       "       [ 0, 12,  0],\n",
       "       [ 0,  1, 20]], dtype=int64)"
      ]
     },
     "execution_count": 56,
     "metadata": {},
     "output_type": "execute_result"
    }
   ],
   "source": [
    "confusion_matrix(testy, predicty)"
   ]
  },
  {
   "cell_type": "code",
   "execution_count": null,
   "id": "ea95d6d2",
   "metadata": {},
   "outputs": [],
   "source": []
  }
 ],
 "metadata": {
  "kernelspec": {
   "display_name": "Python 3 (ipykernel)",
   "language": "python",
   "name": "python3"
  },
  "language_info": {
   "codemirror_mode": {
    "name": "ipython",
    "version": 3
   },
   "file_extension": ".py",
   "mimetype": "text/x-python",
   "name": "python",
   "nbconvert_exporter": "python",
   "pygments_lexer": "ipython3",
   "version": "3.9.7"
  }
 },
 "nbformat": 4,
 "nbformat_minor": 5
}
