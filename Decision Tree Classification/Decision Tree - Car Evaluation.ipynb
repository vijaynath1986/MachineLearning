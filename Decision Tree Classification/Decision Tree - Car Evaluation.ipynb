{
 "cells": [
  {
   "cell_type": "markdown",
   "id": "df439bde",
   "metadata": {},
   "source": [
    "https://www.kaggle.com/code/prashant111/decision-tree-classifier-tutorial/data?select=car_evaluation.csv"
   ]
  },
  {
   "cell_type": "code",
   "execution_count": 1,
   "id": "6d812440",
   "metadata": {},
   "outputs": [],
   "source": [
    "import pandas as pd\n",
    "import numpy as np\n",
    "import seaborn as sns\n",
    "import matplotlib.pyplot as plt"
   ]
  },
  {
   "cell_type": "code",
   "execution_count": 26,
   "id": "79e31b39",
   "metadata": {},
   "outputs": [
    {
     "data": {
      "text/html": [
       "<div>\n",
       "<style scoped>\n",
       "    .dataframe tbody tr th:only-of-type {\n",
       "        vertical-align: middle;\n",
       "    }\n",
       "\n",
       "    .dataframe tbody tr th {\n",
       "        vertical-align: top;\n",
       "    }\n",
       "\n",
       "    .dataframe thead th {\n",
       "        text-align: right;\n",
       "    }\n",
       "</style>\n",
       "<table border=\"1\" class=\"dataframe\">\n",
       "  <thead>\n",
       "    <tr style=\"text-align: right;\">\n",
       "      <th></th>\n",
       "      <th>vhigh</th>\n",
       "      <th>vhigh.1</th>\n",
       "      <th>2</th>\n",
       "      <th>2.1</th>\n",
       "      <th>small</th>\n",
       "      <th>low</th>\n",
       "      <th>unacc</th>\n",
       "    </tr>\n",
       "  </thead>\n",
       "  <tbody>\n",
       "    <tr>\n",
       "      <th>0</th>\n",
       "      <td>vhigh</td>\n",
       "      <td>vhigh</td>\n",
       "      <td>2</td>\n",
       "      <td>2</td>\n",
       "      <td>small</td>\n",
       "      <td>med</td>\n",
       "      <td>unacc</td>\n",
       "    </tr>\n",
       "    <tr>\n",
       "      <th>1</th>\n",
       "      <td>vhigh</td>\n",
       "      <td>vhigh</td>\n",
       "      <td>2</td>\n",
       "      <td>2</td>\n",
       "      <td>small</td>\n",
       "      <td>high</td>\n",
       "      <td>unacc</td>\n",
       "    </tr>\n",
       "    <tr>\n",
       "      <th>2</th>\n",
       "      <td>vhigh</td>\n",
       "      <td>vhigh</td>\n",
       "      <td>2</td>\n",
       "      <td>2</td>\n",
       "      <td>med</td>\n",
       "      <td>low</td>\n",
       "      <td>unacc</td>\n",
       "    </tr>\n",
       "    <tr>\n",
       "      <th>3</th>\n",
       "      <td>vhigh</td>\n",
       "      <td>vhigh</td>\n",
       "      <td>2</td>\n",
       "      <td>2</td>\n",
       "      <td>med</td>\n",
       "      <td>med</td>\n",
       "      <td>unacc</td>\n",
       "    </tr>\n",
       "    <tr>\n",
       "      <th>4</th>\n",
       "      <td>vhigh</td>\n",
       "      <td>vhigh</td>\n",
       "      <td>2</td>\n",
       "      <td>2</td>\n",
       "      <td>med</td>\n",
       "      <td>high</td>\n",
       "      <td>unacc</td>\n",
       "    </tr>\n",
       "  </tbody>\n",
       "</table>\n",
       "</div>"
      ],
      "text/plain": [
       "   vhigh vhigh.1  2 2.1  small   low  unacc\n",
       "0  vhigh   vhigh  2   2  small   med  unacc\n",
       "1  vhigh   vhigh  2   2  small  high  unacc\n",
       "2  vhigh   vhigh  2   2    med   low  unacc\n",
       "3  vhigh   vhigh  2   2    med   med  unacc\n",
       "4  vhigh   vhigh  2   2    med  high  unacc"
      ]
     },
     "execution_count": 26,
     "metadata": {},
     "output_type": "execute_result"
    }
   ],
   "source": [
    "data = pd.read_csv(\"DataSets/car_evaluation.csv\")\n",
    "data.head()"
   ]
  },
  {
   "cell_type": "code",
   "execution_count": 29,
   "id": "ddb3cd0c",
   "metadata": {},
   "outputs": [
    {
     "data": {
      "text/html": [
       "<div>\n",
       "<style scoped>\n",
       "    .dataframe tbody tr th:only-of-type {\n",
       "        vertical-align: middle;\n",
       "    }\n",
       "\n",
       "    .dataframe tbody tr th {\n",
       "        vertical-align: top;\n",
       "    }\n",
       "\n",
       "    .dataframe thead th {\n",
       "        text-align: right;\n",
       "    }\n",
       "</style>\n",
       "<table border=\"1\" class=\"dataframe\">\n",
       "  <thead>\n",
       "    <tr style=\"text-align: right;\">\n",
       "      <th></th>\n",
       "      <th>BuyingPrice</th>\n",
       "      <th>MaintenanceCost</th>\n",
       "      <th>NumberOfDoors</th>\n",
       "      <th>NumberOfPersons</th>\n",
       "      <th>Lug_boot</th>\n",
       "      <th>Safety</th>\n",
       "      <th>Decision</th>\n",
       "    </tr>\n",
       "  </thead>\n",
       "  <tbody>\n",
       "    <tr>\n",
       "      <th>0</th>\n",
       "      <td>vhigh</td>\n",
       "      <td>vhigh</td>\n",
       "      <td>2</td>\n",
       "      <td>2</td>\n",
       "      <td>small</td>\n",
       "      <td>med</td>\n",
       "      <td>unacc</td>\n",
       "    </tr>\n",
       "    <tr>\n",
       "      <th>1</th>\n",
       "      <td>vhigh</td>\n",
       "      <td>vhigh</td>\n",
       "      <td>2</td>\n",
       "      <td>2</td>\n",
       "      <td>small</td>\n",
       "      <td>high</td>\n",
       "      <td>unacc</td>\n",
       "    </tr>\n",
       "    <tr>\n",
       "      <th>2</th>\n",
       "      <td>vhigh</td>\n",
       "      <td>vhigh</td>\n",
       "      <td>2</td>\n",
       "      <td>2</td>\n",
       "      <td>med</td>\n",
       "      <td>low</td>\n",
       "      <td>unacc</td>\n",
       "    </tr>\n",
       "    <tr>\n",
       "      <th>3</th>\n",
       "      <td>vhigh</td>\n",
       "      <td>vhigh</td>\n",
       "      <td>2</td>\n",
       "      <td>2</td>\n",
       "      <td>med</td>\n",
       "      <td>med</td>\n",
       "      <td>unacc</td>\n",
       "    </tr>\n",
       "    <tr>\n",
       "      <th>4</th>\n",
       "      <td>vhigh</td>\n",
       "      <td>vhigh</td>\n",
       "      <td>2</td>\n",
       "      <td>2</td>\n",
       "      <td>med</td>\n",
       "      <td>high</td>\n",
       "      <td>unacc</td>\n",
       "    </tr>\n",
       "    <tr>\n",
       "      <th>...</th>\n",
       "      <td>...</td>\n",
       "      <td>...</td>\n",
       "      <td>...</td>\n",
       "      <td>...</td>\n",
       "      <td>...</td>\n",
       "      <td>...</td>\n",
       "      <td>...</td>\n",
       "    </tr>\n",
       "    <tr>\n",
       "      <th>1722</th>\n",
       "      <td>low</td>\n",
       "      <td>low</td>\n",
       "      <td>5more</td>\n",
       "      <td>more</td>\n",
       "      <td>med</td>\n",
       "      <td>med</td>\n",
       "      <td>good</td>\n",
       "    </tr>\n",
       "    <tr>\n",
       "      <th>1723</th>\n",
       "      <td>low</td>\n",
       "      <td>low</td>\n",
       "      <td>5more</td>\n",
       "      <td>more</td>\n",
       "      <td>med</td>\n",
       "      <td>high</td>\n",
       "      <td>vgood</td>\n",
       "    </tr>\n",
       "    <tr>\n",
       "      <th>1724</th>\n",
       "      <td>low</td>\n",
       "      <td>low</td>\n",
       "      <td>5more</td>\n",
       "      <td>more</td>\n",
       "      <td>big</td>\n",
       "      <td>low</td>\n",
       "      <td>unacc</td>\n",
       "    </tr>\n",
       "    <tr>\n",
       "      <th>1725</th>\n",
       "      <td>low</td>\n",
       "      <td>low</td>\n",
       "      <td>5more</td>\n",
       "      <td>more</td>\n",
       "      <td>big</td>\n",
       "      <td>med</td>\n",
       "      <td>good</td>\n",
       "    </tr>\n",
       "    <tr>\n",
       "      <th>1726</th>\n",
       "      <td>low</td>\n",
       "      <td>low</td>\n",
       "      <td>5more</td>\n",
       "      <td>more</td>\n",
       "      <td>big</td>\n",
       "      <td>high</td>\n",
       "      <td>vgood</td>\n",
       "    </tr>\n",
       "  </tbody>\n",
       "</table>\n",
       "<p>1727 rows × 7 columns</p>\n",
       "</div>"
      ],
      "text/plain": [
       "     BuyingPrice MaintenanceCost NumberOfDoors NumberOfPersons Lug_boot  \\\n",
       "0          vhigh           vhigh             2               2    small   \n",
       "1          vhigh           vhigh             2               2    small   \n",
       "2          vhigh           vhigh             2               2      med   \n",
       "3          vhigh           vhigh             2               2      med   \n",
       "4          vhigh           vhigh             2               2      med   \n",
       "...          ...             ...           ...             ...      ...   \n",
       "1722         low             low         5more            more      med   \n",
       "1723         low             low         5more            more      med   \n",
       "1724         low             low         5more            more      big   \n",
       "1725         low             low         5more            more      big   \n",
       "1726         low             low         5more            more      big   \n",
       "\n",
       "     Safety Decision  \n",
       "0       med    unacc  \n",
       "1      high    unacc  \n",
       "2       low    unacc  \n",
       "3       med    unacc  \n",
       "4      high    unacc  \n",
       "...     ...      ...  \n",
       "1722    med     good  \n",
       "1723   high    vgood  \n",
       "1724    low    unacc  \n",
       "1725    med     good  \n",
       "1726   high    vgood  \n",
       "\n",
       "[1727 rows x 7 columns]"
      ]
     },
     "execution_count": 29,
     "metadata": {},
     "output_type": "execute_result"
    }
   ],
   "source": [
    "data.columns = [\"BuyingPrice\", \"MaintenanceCost\", \"NumberOfDoors\", \n",
    "                                    \"NumberOfPersons\", \"Lug_boot\", \"Safety\", \"Decision\"]\n",
    "data"
   ]
  },
  {
   "cell_type": "code",
   "execution_count": 30,
   "id": "0ef60a30",
   "metadata": {},
   "outputs": [
    {
     "name": "stdout",
     "output_type": "stream",
     "text": [
      "<class 'pandas.core.frame.DataFrame'>\n",
      "RangeIndex: 1727 entries, 0 to 1726\n",
      "Data columns (total 7 columns):\n",
      " #   Column           Non-Null Count  Dtype \n",
      "---  ------           --------------  ----- \n",
      " 0   BuyingPrice      1727 non-null   object\n",
      " 1   MaintenanceCost  1727 non-null   object\n",
      " 2   NumberOfDoors    1727 non-null   object\n",
      " 3   NumberOfPersons  1727 non-null   object\n",
      " 4   Lug_boot         1727 non-null   object\n",
      " 5   Safety           1727 non-null   object\n",
      " 6   Decision         1727 non-null   object\n",
      "dtypes: object(7)\n",
      "memory usage: 94.6+ KB\n"
     ]
    }
   ],
   "source": [
    "data.info()"
   ]
  },
  {
   "cell_type": "code",
   "execution_count": 34,
   "id": "c126a884",
   "metadata": {},
   "outputs": [],
   "source": [
    "# Split X and y\n",
    "X = data.iloc[:,:-1]\n",
    "y = data[\"Decision\"]"
   ]
  },
  {
   "cell_type": "code",
   "execution_count": 37,
   "id": "489f1b1c",
   "metadata": {},
   "outputs": [],
   "source": [
    "# Split Test and Training data\n",
    "from sklearn.model_selection import train_test_split"
   ]
  },
  {
   "cell_type": "code",
   "execution_count": 38,
   "id": "f8497c08",
   "metadata": {},
   "outputs": [],
   "source": [
    "train_X, test_X, train_y, test_y = train_test_split(X, y, test_size=0.3)"
   ]
  },
  {
   "cell_type": "code",
   "execution_count": 39,
   "id": "dd4a9c8a",
   "metadata": {
    "scrolled": true
   },
   "outputs": [
    {
     "name": "stdout",
     "output_type": "stream",
     "text": [
      "(1208, 6) (519, 6) (1208,) (519,)\n"
     ]
    }
   ],
   "source": [
    "print(train_X.shape, test_X.shape, train_y.shape, test_y.shape)"
   ]
  },
  {
   "cell_type": "markdown",
   "id": "3e8356b4",
   "metadata": {},
   "source": [
    "# Encode categorical variables"
   ]
  },
  {
   "cell_type": "code",
   "execution_count": 74,
   "id": "19f7e03e",
   "metadata": {},
   "outputs": [],
   "source": [
    "from sklearn.preprocessing import OrdinalEncoder"
   ]
  },
  {
   "cell_type": "code",
   "execution_count": 46,
   "id": "f9eea444",
   "metadata": {
    "scrolled": true
   },
   "outputs": [],
   "source": [
    "OrdEncObj = OrdinalEncoder()"
   ]
  },
  {
   "cell_type": "code",
   "execution_count": 77,
   "id": "19a7746e",
   "metadata": {},
   "outputs": [],
   "source": [
    "train_X_encoded = OrdEncObj.fit_transform(train_X)\n",
    "test_X_encoded = OrdEncObj.transform(test_X)"
   ]
  },
  {
   "cell_type": "code",
   "execution_count": 79,
   "id": "c7ce410a",
   "metadata": {},
   "outputs": [
    {
     "name": "stdout",
     "output_type": "stream",
     "text": [
      "[[1. 1. 2. 2. 0. 2.]\n",
      " [0. 3. 3. 2. 1. 2.]\n",
      " [3. 0. 2. 2. 0. 0.]\n",
      " ...\n",
      " [2. 2. 3. 1. 0. 1.]\n",
      " [0. 3. 2. 0. 2. 1.]\n",
      " [0. 1. 0. 1. 2. 0.]] [[3. 2. 0. 1. 2. 1.]\n",
      " [1. 2. 3. 2. 2. 1.]\n",
      " [2. 1. 3. 2. 1. 2.]\n",
      " ...\n",
      " [1. 0. 3. 0. 2. 2.]\n",
      " [2. 0. 3. 1. 2. 2.]\n",
      " [3. 0. 1. 1. 0. 1.]]\n"
     ]
    }
   ],
   "source": [
    "print(train_X_encoded, test_X_encoded)"
   ]
  },
  {
   "cell_type": "code",
   "execution_count": 70,
   "id": "ee355975",
   "metadata": {},
   "outputs": [
    {
     "data": {
      "text/plain": [
       "array([['vhigh', 'vhigh', '2', '2', 'small', 'med'],\n",
       "       ['vhigh', 'vhigh', '2', '2', 'small', 'high'],\n",
       "       ['vhigh', 'vhigh', '2', '2', 'med', 'low'],\n",
       "       ...,\n",
       "       ['low', 'low', '5more', 'more', 'big', 'low'],\n",
       "       ['low', 'low', '5more', 'more', 'big', 'med'],\n",
       "       ['low', 'low', '5more', 'more', 'big', 'high']], dtype=object)"
      ]
     },
     "execution_count": 70,
     "metadata": {},
     "output_type": "execute_result"
    }
   ],
   "source": [
    "OrdEncObj.inverse_transform(s)"
   ]
  },
  {
   "cell_type": "code",
   "execution_count": null,
   "id": "23baf918",
   "metadata": {},
   "outputs": [],
   "source": []
  },
  {
   "cell_type": "code",
   "execution_count": 40,
   "id": "22b94c3d",
   "metadata": {},
   "outputs": [],
   "source": [
    "from sklearn.tree import DecisionTreeClassifier"
   ]
  },
  {
   "cell_type": "code",
   "execution_count": 116,
   "id": "c3ca014f",
   "metadata": {},
   "outputs": [],
   "source": [
    "decisionTreeObj = DecisionTreeClassifier(max_depth=8, random_state=0)"
   ]
  },
  {
   "cell_type": "code",
   "execution_count": 117,
   "id": "123d36d6",
   "metadata": {},
   "outputs": [
    {
     "data": {
      "text/plain": [
       "DecisionTreeClassifier(max_depth=8, random_state=0)"
      ]
     },
     "execution_count": 117,
     "metadata": {},
     "output_type": "execute_result"
    }
   ],
   "source": [
    "decisionTreeObj.fit(train_X_encoded, train_y)"
   ]
  },
  {
   "cell_type": "code",
   "execution_count": 118,
   "id": "8258844a",
   "metadata": {},
   "outputs": [],
   "source": [
    "predicted_y = decisionTreeObj.predict(test_X_encoded)"
   ]
  },
  {
   "cell_type": "code",
   "execution_count": 119,
   "id": "8c4a4340",
   "metadata": {},
   "outputs": [],
   "source": [
    "from sklearn.metrics import confusion_matrix"
   ]
  },
  {
   "cell_type": "code",
   "execution_count": 120,
   "id": "fd9f9a11",
   "metadata": {},
   "outputs": [
    {
     "data": {
      "text/plain": [
       "array([[100,   8,   5,   3],\n",
       "       [  4,  16,   0,   1],\n",
       "       [  8,   1, 353,   0],\n",
       "       [  2,   0,   0,  18]], dtype=int64)"
      ]
     },
     "execution_count": 120,
     "metadata": {},
     "output_type": "execute_result"
    }
   ],
   "source": [
    "confusion_matrix(test_y, predicted_y)"
   ]
  },
  {
   "cell_type": "code",
   "execution_count": 121,
   "id": "3c67d9f7",
   "metadata": {},
   "outputs": [
    {
     "name": "stdout",
     "output_type": "stream",
     "text": [
      "Model accuracy score 0.9383\n"
     ]
    }
   ],
   "source": [
    "from sklearn.metrics import accuracy_score\n",
    "print('Model accuracy score {0:0.4f}'. format(accuracy_score(test_y, predicted_y)))"
   ]
  },
  {
   "cell_type": "code",
   "execution_count": 122,
   "id": "0d0ba926",
   "metadata": {},
   "outputs": [
    {
     "name": "stdout",
     "output_type": "stream",
     "text": [
      "Training set score: 0.9503\n"
     ]
    }
   ],
   "source": [
    "print('Training set score: {:.4f}'.format(decisionTreeObj.score(train_X_encoded, train_y)))"
   ]
  },
  {
   "cell_type": "code",
   "execution_count": 123,
   "id": "ec443a3a",
   "metadata": {},
   "outputs": [
    {
     "name": "stdout",
     "output_type": "stream",
     "text": [
      "Training set score: 0.9383\n"
     ]
    }
   ],
   "source": [
    "print('Training set score: {:.4f}'.format(decisionTreeObj.score(test_X_encoded, test_y)))"
   ]
  },
  {
   "cell_type": "code",
   "execution_count": 124,
   "id": "9f76d3f3",
   "metadata": {},
   "outputs": [],
   "source": [
    "# Not sure whether there is over fitting or not."
   ]
  },
  {
   "cell_type": "code",
   "execution_count": null,
   "id": "c366afd6",
   "metadata": {},
   "outputs": [],
   "source": []
  },
  {
   "cell_type": "code",
   "execution_count": 125,
   "id": "a26e8d1b",
   "metadata": {},
   "outputs": [],
   "source": [
    "from sklearn.metrics import classification_report"
   ]
  },
  {
   "cell_type": "code",
   "execution_count": 127,
   "id": "76e0b249",
   "metadata": {},
   "outputs": [
    {
     "name": "stdout",
     "output_type": "stream",
     "text": [
      "              precision    recall  f1-score   support\n",
      "\n",
      "         acc       0.88      0.86      0.87       116\n",
      "        good       0.64      0.76      0.70        21\n",
      "       unacc       0.99      0.98      0.98       362\n",
      "       vgood       0.82      0.90      0.86        20\n",
      "\n",
      "    accuracy                           0.94       519\n",
      "   macro avg       0.83      0.87      0.85       519\n",
      "weighted avg       0.94      0.94      0.94       519\n",
      "\n"
     ]
    }
   ],
   "source": [
    "print(classification_report(test_y, predicted_y))"
   ]
  },
  {
   "cell_type": "code",
   "execution_count": null,
   "id": "815cb866",
   "metadata": {},
   "outputs": [],
   "source": []
  }
 ],
 "metadata": {
  "kernelspec": {
   "display_name": "Python 3 (ipykernel)",
   "language": "python",
   "name": "python3"
  },
  "language_info": {
   "codemirror_mode": {
    "name": "ipython",
    "version": 3
   },
   "file_extension": ".py",
   "mimetype": "text/x-python",
   "name": "python",
   "nbconvert_exporter": "python",
   "pygments_lexer": "ipython3",
   "version": "3.11.5"
  }
 },
 "nbformat": 4,
 "nbformat_minor": 5
}
