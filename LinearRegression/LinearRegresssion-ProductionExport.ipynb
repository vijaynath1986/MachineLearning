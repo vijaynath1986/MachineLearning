{
 "cells": [
  {
   "cell_type": "code",
   "execution_count": 42,
   "id": "8f5911f1",
   "metadata": {},
   "outputs": [],
   "source": [
    "import pandas as pd\n",
    "import numpy as np\n",
    "import seaborn as sns\n",
    "import matplotlib.pyplot as plot"
   ]
  },
  {
   "cell_type": "code",
   "execution_count": 118,
   "id": "4c9f6c07",
   "metadata": {},
   "outputs": [],
   "source": [
    "data = pd.read_csv(\"ProductionExport.csv\")\n",
    "\n",
    "# Discussion:\n",
    "#\n",
    "#    For the years 1949 to 1966, the international production,\n",
    "#    the stock, the domestic consumption and the level of\n",
    "#    imports were noted in millions of French francs.\n",
    "#\n",
    "#    There are 18 rows of data.  The data include:\n",
    "#\n",
    "#      I,  the index;\n",
    "#      Y,  the year;\n",
    "#      A0, 1;\n",
    "#      A1, the international production;\n",
    "#      A2, the stock;\n",
    "#      A3, the domestic consumption;\n",
    "#      B,  the levels of imports.\n",
    "#\n",
    "#    We seek a model of the form:\n",
    "#\n",
    "#      B = A0 * X0 + A1 * X1 + A2 * X2 + A3 * X3."
   ]
  },
  {
   "cell_type": "code",
   "execution_count": 119,
   "id": "1b612aeb",
   "metadata": {},
   "outputs": [
    {
     "data": {
      "text/html": [
       "<div>\n",
       "<style scoped>\n",
       "    .dataframe tbody tr th:only-of-type {\n",
       "        vertical-align: middle;\n",
       "    }\n",
       "\n",
       "    .dataframe tbody tr th {\n",
       "        vertical-align: top;\n",
       "    }\n",
       "\n",
       "    .dataframe thead th {\n",
       "        text-align: right;\n",
       "    }\n",
       "</style>\n",
       "<table border=\"1\" class=\"dataframe\">\n",
       "  <thead>\n",
       "    <tr style=\"text-align: right;\">\n",
       "      <th></th>\n",
       "      <th>Index</th>\n",
       "      <th>Year</th>\n",
       "      <th>One</th>\n",
       "      <th>InternationalProduction</th>\n",
       "      <th>Stock</th>\n",
       "      <th>DomesticConsumption</th>\n",
       "      <th>Imports</th>\n",
       "    </tr>\n",
       "  </thead>\n",
       "  <tbody>\n",
       "    <tr>\n",
       "      <th>0</th>\n",
       "      <td>1</td>\n",
       "      <td>1949</td>\n",
       "      <td>1</td>\n",
       "      <td>149.3</td>\n",
       "      <td>4.2</td>\n",
       "      <td>108.1</td>\n",
       "      <td>15.9</td>\n",
       "    </tr>\n",
       "    <tr>\n",
       "      <th>1</th>\n",
       "      <td>2</td>\n",
       "      <td>1950</td>\n",
       "      <td>1</td>\n",
       "      <td>161.2</td>\n",
       "      <td>4.1</td>\n",
       "      <td>114.8</td>\n",
       "      <td>16.4</td>\n",
       "    </tr>\n",
       "    <tr>\n",
       "      <th>2</th>\n",
       "      <td>3</td>\n",
       "      <td>1951</td>\n",
       "      <td>1</td>\n",
       "      <td>171.5</td>\n",
       "      <td>3.1</td>\n",
       "      <td>123.2</td>\n",
       "      <td>19.0</td>\n",
       "    </tr>\n",
       "    <tr>\n",
       "      <th>3</th>\n",
       "      <td>4</td>\n",
       "      <td>1952</td>\n",
       "      <td>1</td>\n",
       "      <td>175.5</td>\n",
       "      <td>3.1</td>\n",
       "      <td>126.9</td>\n",
       "      <td>19.1</td>\n",
       "    </tr>\n",
       "    <tr>\n",
       "      <th>4</th>\n",
       "      <td>5</td>\n",
       "      <td>1953</td>\n",
       "      <td>1</td>\n",
       "      <td>180.8</td>\n",
       "      <td>1.1</td>\n",
       "      <td>132.1</td>\n",
       "      <td>18.8</td>\n",
       "    </tr>\n",
       "  </tbody>\n",
       "</table>\n",
       "</div>"
      ],
      "text/plain": [
       "   Index  Year  One  InternationalProduction  Stock  DomesticConsumption  \\\n",
       "0      1  1949    1                    149.3    4.2                108.1   \n",
       "1      2  1950    1                    161.2    4.1                114.8   \n",
       "2      3  1951    1                    171.5    3.1                123.2   \n",
       "3      4  1952    1                    175.5    3.1                126.9   \n",
       "4      5  1953    1                    180.8    1.1                132.1   \n",
       "\n",
       "   Imports  \n",
       "0     15.9  \n",
       "1     16.4  \n",
       "2     19.0  \n",
       "3     19.1  \n",
       "4     18.8  "
      ]
     },
     "execution_count": 119,
     "metadata": {},
     "output_type": "execute_result"
    }
   ],
   "source": [
    "data.head()"
   ]
  },
  {
   "cell_type": "code",
   "execution_count": 45,
   "id": "e8d0fffc",
   "metadata": {},
   "outputs": [],
   "source": [
    "data.drop(labels = [\"Index\", \"One\"], inplace=True, axis=1 )"
   ]
  },
  {
   "cell_type": "code",
   "execution_count": 46,
   "id": "39b66004",
   "metadata": {},
   "outputs": [
    {
     "data": {
      "text/html": [
       "<div>\n",
       "<style scoped>\n",
       "    .dataframe tbody tr th:only-of-type {\n",
       "        vertical-align: middle;\n",
       "    }\n",
       "\n",
       "    .dataframe tbody tr th {\n",
       "        vertical-align: top;\n",
       "    }\n",
       "\n",
       "    .dataframe thead th {\n",
       "        text-align: right;\n",
       "    }\n",
       "</style>\n",
       "<table border=\"1\" class=\"dataframe\">\n",
       "  <thead>\n",
       "    <tr style=\"text-align: right;\">\n",
       "      <th></th>\n",
       "      <th>Year</th>\n",
       "      <th>InternationalProduction</th>\n",
       "      <th>Stock</th>\n",
       "      <th>DomesticConsumption</th>\n",
       "      <th>Imports</th>\n",
       "    </tr>\n",
       "  </thead>\n",
       "  <tbody>\n",
       "    <tr>\n",
       "      <th>0</th>\n",
       "      <td>1949</td>\n",
       "      <td>149.3</td>\n",
       "      <td>4.2</td>\n",
       "      <td>108.1</td>\n",
       "      <td>15.9</td>\n",
       "    </tr>\n",
       "    <tr>\n",
       "      <th>1</th>\n",
       "      <td>1950</td>\n",
       "      <td>161.2</td>\n",
       "      <td>4.1</td>\n",
       "      <td>114.8</td>\n",
       "      <td>16.4</td>\n",
       "    </tr>\n",
       "    <tr>\n",
       "      <th>2</th>\n",
       "      <td>1951</td>\n",
       "      <td>171.5</td>\n",
       "      <td>3.1</td>\n",
       "      <td>123.2</td>\n",
       "      <td>19.0</td>\n",
       "    </tr>\n",
       "    <tr>\n",
       "      <th>3</th>\n",
       "      <td>1952</td>\n",
       "      <td>175.5</td>\n",
       "      <td>3.1</td>\n",
       "      <td>126.9</td>\n",
       "      <td>19.1</td>\n",
       "    </tr>\n",
       "    <tr>\n",
       "      <th>4</th>\n",
       "      <td>1953</td>\n",
       "      <td>180.8</td>\n",
       "      <td>1.1</td>\n",
       "      <td>132.1</td>\n",
       "      <td>18.8</td>\n",
       "    </tr>\n",
       "  </tbody>\n",
       "</table>\n",
       "</div>"
      ],
      "text/plain": [
       "   Year  InternationalProduction  Stock  DomesticConsumption  Imports\n",
       "0  1949                    149.3    4.2                108.1     15.9\n",
       "1  1950                    161.2    4.1                114.8     16.4\n",
       "2  1951                    171.5    3.1                123.2     19.0\n",
       "3  1952                    175.5    3.1                126.9     19.1\n",
       "4  1953                    180.8    1.1                132.1     18.8"
      ]
     },
     "execution_count": 46,
     "metadata": {},
     "output_type": "execute_result"
    }
   ],
   "source": [
    "data.head()"
   ]
  },
  {
   "cell_type": "code",
   "execution_count": 47,
   "id": "5e9a4b9d",
   "metadata": {},
   "outputs": [
    {
     "data": {
      "text/plain": [
       "<AxesSubplot:>"
      ]
     },
     "execution_count": 47,
     "metadata": {},
     "output_type": "execute_result"
    },
    {
     "data": {
      "image/png": "[encoded data removed]",
      "text/plain": [
       "<Figure size 432x288 with 2 Axes>"
      ]
     },
     "metadata": {
      "needs_background": "light"
     },
     "output_type": "display_data"
    }
   ],
   "source": [
    "sns.heatmap(data.corr(), annot=True)"
   ]
  },
  {
   "cell_type": "code",
   "execution_count": 48,
   "id": "936b29fb",
   "metadata": {},
   "outputs": [],
   "source": [
    "#looks like there is no correlation of \"stock\" with any other dependent variables"
   ]
  },
  {
   "cell_type": "code",
   "execution_count": 49,
   "id": "fcc9adff",
   "metadata": {},
   "outputs": [
    {
     "data": {
      "text/plain": [
       "<seaborn.axisgrid.PairGrid at 0x1344ddd2940>"
      ]
     },
     "execution_count": 49,
     "metadata": {},
     "output_type": "execute_result"
    },
    {
     "data": {
      "image/png": "[encoded data removed]",
      "text/plain": [
       "<Figure size 900x900 with 30 Axes>"
      ]
     },
     "metadata": {
      "needs_background": "light"
     },
     "output_type": "display_data"
    }
   ],
   "source": [
    "sns.pairplot(data)"
   ]
  },
  {
   "cell_type": "code",
   "execution_count": 50,
   "id": "8a844cd7",
   "metadata": {},
   "outputs": [],
   "source": [
    "#Pair plot confirms that there is no dependeny on \"stocks\" that influences \"imports\"\n",
    "data.drop(labels = [\"Stock\"], inplace=True, axis=1 )"
   ]
  },
  {
   "cell_type": "code",
   "execution_count": 51,
   "id": "2c590d16",
   "metadata": {},
   "outputs": [
    {
     "data": {
      "text/html": [
       "<div>\n",
       "<style scoped>\n",
       "    .dataframe tbody tr th:only-of-type {\n",
       "        vertical-align: middle;\n",
       "    }\n",
       "\n",
       "    .dataframe tbody tr th {\n",
       "        vertical-align: top;\n",
       "    }\n",
       "\n",
       "    .dataframe thead th {\n",
       "        text-align: right;\n",
       "    }\n",
       "</style>\n",
       "<table border=\"1\" class=\"dataframe\">\n",
       "  <thead>\n",
       "    <tr style=\"text-align: right;\">\n",
       "      <th></th>\n",
       "      <th>Year</th>\n",
       "      <th>InternationalProduction</th>\n",
       "      <th>DomesticConsumption</th>\n",
       "      <th>Imports</th>\n",
       "    </tr>\n",
       "  </thead>\n",
       "  <tbody>\n",
       "    <tr>\n",
       "      <th>0</th>\n",
       "      <td>1949</td>\n",
       "      <td>149.3</td>\n",
       "      <td>108.1</td>\n",
       "      <td>15.9</td>\n",
       "    </tr>\n",
       "    <tr>\n",
       "      <th>1</th>\n",
       "      <td>1950</td>\n",
       "      <td>161.2</td>\n",
       "      <td>114.8</td>\n",
       "      <td>16.4</td>\n",
       "    </tr>\n",
       "    <tr>\n",
       "      <th>2</th>\n",
       "      <td>1951</td>\n",
       "      <td>171.5</td>\n",
       "      <td>123.2</td>\n",
       "      <td>19.0</td>\n",
       "    </tr>\n",
       "    <tr>\n",
       "      <th>3</th>\n",
       "      <td>1952</td>\n",
       "      <td>175.5</td>\n",
       "      <td>126.9</td>\n",
       "      <td>19.1</td>\n",
       "    </tr>\n",
       "    <tr>\n",
       "      <th>4</th>\n",
       "      <td>1953</td>\n",
       "      <td>180.8</td>\n",
       "      <td>132.1</td>\n",
       "      <td>18.8</td>\n",
       "    </tr>\n",
       "  </tbody>\n",
       "</table>\n",
       "</div>"
      ],
      "text/plain": [
       "   Year  InternationalProduction  DomesticConsumption  Imports\n",
       "0  1949                    149.3                108.1     15.9\n",
       "1  1950                    161.2                114.8     16.4\n",
       "2  1951                    171.5                123.2     19.0\n",
       "3  1952                    175.5                126.9     19.1\n",
       "4  1953                    180.8                132.1     18.8"
      ]
     },
     "execution_count": 51,
     "metadata": {},
     "output_type": "execute_result"
    }
   ],
   "source": [
    "data.head()"
   ]
  },
  {
   "cell_type": "code",
   "execution_count": 52,
   "id": "721fab7f",
   "metadata": {},
   "outputs": [],
   "source": [
    "#Seperating dependent and independent variables\n",
    "X = data.loc[:, [\"Year\", \"InternationalProduction\", \"DomesticConsumption\"]]"
   ]
  },
  {
   "cell_type": "code",
   "execution_count": 72,
   "id": "fdf0cc1c",
   "metadata": {},
   "outputs": [],
   "source": [
    "y = data.loc[:, \"Imports\"]"
   ]
  },
  {
   "cell_type": "code",
   "execution_count": 83,
   "id": "cbee3e50",
   "metadata": {},
   "outputs": [],
   "source": [
    "from sklearn.model_selection import train_test_split"
   ]
  },
  {
   "cell_type": "code",
   "execution_count": 84,
   "id": "238d69e2",
   "metadata": {},
   "outputs": [],
   "source": [
    "train_X, test_X, train_y, test_y = train_test_split(X, y, test_size=0.3)"
   ]
  },
  {
   "cell_type": "code",
   "execution_count": 85,
   "id": "e8ddb834",
   "metadata": {},
   "outputs": [
    {
     "name": "stdout",
     "output_type": "stream",
     "text": [
      "(12, 3) (6, 3) (12,) (6,)\n"
     ]
    }
   ],
   "source": [
    "print(train_X.shape, test_X.shape, train_y.shape, test_y.shape)"
   ]
  },
  {
   "cell_type": "code",
   "execution_count": 76,
   "id": "92212781",
   "metadata": {},
   "outputs": [],
   "source": [
    "from sklearn.linear_model import LinearRegression"
   ]
  },
  {
   "cell_type": "code",
   "execution_count": 77,
   "id": "7f9c040d",
   "metadata": {},
   "outputs": [],
   "source": [
    "lrObj = LinearRegression()"
   ]
  },
  {
   "cell_type": "code",
   "execution_count": 78,
   "id": "ddef5509",
   "metadata": {},
   "outputs": [
    {
     "data": {
      "text/plain": [
       "LinearRegression()"
      ]
     },
     "execution_count": 78,
     "metadata": {},
     "output_type": "execute_result"
    }
   ],
   "source": [
    "lrObj.fit(train_X, train_y)"
   ]
  },
  {
   "cell_type": "code",
   "execution_count": 79,
   "id": "e3d9ccf1",
   "metadata": {},
   "outputs": [],
   "source": [
    "predicted_imports = lrObj.predict(test_X)"
   ]
  },
  {
   "cell_type": "code",
   "execution_count": 88,
   "id": "66998a45",
   "metadata": {},
   "outputs": [
    {
     "data": {
      "text/html": [
       "<div>\n",
       "<style scoped>\n",
       "    .dataframe tbody tr th:only-of-type {\n",
       "        vertical-align: middle;\n",
       "    }\n",
       "\n",
       "    .dataframe tbody tr th {\n",
       "        vertical-align: top;\n",
       "    }\n",
       "\n",
       "    .dataframe thead th {\n",
       "        text-align: right;\n",
       "    }\n",
       "</style>\n",
       "<table border=\"1\" class=\"dataframe\">\n",
       "  <thead>\n",
       "    <tr style=\"text-align: right;\">\n",
       "      <th></th>\n",
       "      <th>predicted imports</th>\n",
       "      <th>Actual Imports</th>\n",
       "    </tr>\n",
       "  </thead>\n",
       "  <tbody>\n",
       "    <tr>\n",
       "      <th>4</th>\n",
       "      <td>26.220934</td>\n",
       "      <td>18.8</td>\n",
       "    </tr>\n",
       "    <tr>\n",
       "      <th>0</th>\n",
       "      <td>17.572702</td>\n",
       "      <td>15.9</td>\n",
       "    </tr>\n",
       "    <tr>\n",
       "      <th>3</th>\n",
       "      <td>25.541311</td>\n",
       "      <td>19.1</td>\n",
       "    </tr>\n",
       "    <tr>\n",
       "      <th>16</th>\n",
       "      <td>51.302042</td>\n",
       "      <td>50.3</td>\n",
       "    </tr>\n",
       "    <tr>\n",
       "      <th>7</th>\n",
       "      <td>29.237477</td>\n",
       "      <td>26.5</td>\n",
       "    </tr>\n",
       "    <tr>\n",
       "      <th>1</th>\n",
       "      <td>20.015028</td>\n",
       "      <td>16.4</td>\n",
       "    </tr>\n",
       "  </tbody>\n",
       "</table>\n",
       "</div>"
      ],
      "text/plain": [
       "    predicted imports  Actual Imports\n",
       "4           26.220934            18.8\n",
       "0           17.572702            15.9\n",
       "3           25.541311            19.1\n",
       "16          51.302042            50.3\n",
       "7           29.237477            26.5\n",
       "1           20.015028            16.4"
      ]
     },
     "execution_count": 88,
     "metadata": {},
     "output_type": "execute_result"
    }
   ],
   "source": [
    "pd.DataFrame({\"predicted imports\": predicted_imports, \"Actual Imports\":test_y})"
   ]
  },
  {
   "cell_type": "code",
   "execution_count": 93,
   "id": "008a3584",
   "metadata": {},
   "outputs": [],
   "source": [
    "from sklearn.metrics import mean_absolute_error, r2_score"
   ]
  },
  {
   "cell_type": "code",
   "execution_count": 92,
   "id": "8a000dd1",
   "metadata": {},
   "outputs": [
    {
     "data": {
      "text/plain": [
       "3.814915760447851"
      ]
     },
     "execution_count": 92,
     "metadata": {},
     "output_type": "execute_result"
    }
   ],
   "source": [
    "mean_absolute_error(predicted_imports, test_y)"
   ]
  },
  {
   "cell_type": "code",
   "execution_count": 95,
   "id": "1b7d361e",
   "metadata": {},
   "outputs": [
    {
     "data": {
      "text/plain": [
       "0.8333494304390496"
      ]
     },
     "execution_count": 95,
     "metadata": {},
     "output_type": "execute_result"
    }
   ],
   "source": [
    "r2_score(predicted_imports, test_y)"
   ]
  },
  {
   "cell_type": "code",
   "execution_count": 96,
   "id": "120aaa0e",
   "metadata": {},
   "outputs": [
    {
     "data": {
      "text/plain": [
       "array([-3.16848882,  0.09320793,  0.55366348])"
      ]
     },
     "execution_count": 96,
     "metadata": {},
     "output_type": "execute_result"
    }
   ],
   "source": [
    "lrObj.coef_ #  B = A0 * X0 + A1 * X1 + A2 * X2 + A3 * X3."
   ]
  },
  {
   "cell_type": "code",
   "execution_count": 97,
   "id": "9788a2d2",
   "metadata": {},
   "outputs": [
    {
     "data": {
      "text/plain": [
       "6117.540218277618"
      ]
     },
     "execution_count": 97,
     "metadata": {},
     "output_type": "execute_result"
    }
   ],
   "source": [
    "lrObj.intercept_ # X3"
   ]
  },
  {
   "cell_type": "code",
   "execution_count": 100,
   "id": "89289325",
   "metadata": {},
   "outputs": [
    {
     "data": {
      "text/plain": [
       "array([15.92247142])"
      ]
     },
     "execution_count": 100,
     "metadata": {},
     "output_type": "execute_result"
    }
   ],
   "source": [
    "#Testing the model with known data\n",
    "lrObj.predict([[1949, 149.3, 108.1]])"
   ]
  },
  {
   "cell_type": "code",
   "execution_count": 114,
   "id": "494ee47a",
   "metadata": {},
   "outputs": [
    {
     "data": {
      "text/plain": [
       "array([104.08160783])"
      ]
     },
     "execution_count": 114,
     "metadata": {},
     "output_type": "execute_result"
    }
   ],
   "source": [
    "#Testing the model with unknown data\n",
    "lrObj.predict([[2000, 500.3, 500.1]])"
   ]
  },
  {
   "cell_type": "code",
   "execution_count": null,
   "id": "e9f611cb",
   "metadata": {},
   "outputs": [],
   "source": []
  }
 ],
 "metadata": {
  "kernelspec": {
   "display_name": "Python 3 (ipykernel)",
   "language": "python",
   "name": "python3"
  },
  "language_info": {
   "codemirror_mode": {
    "name": "ipython",
    "version": 3
   },
   "file_extension": ".py",
   "mimetype": "text/x-python",
   "name": "python",
   "nbconvert_exporter": "python",
   "pygments_lexer": "ipython3",
   "version": "3.9.7"
  }
 },
 "nbformat": 4,
 "nbformat_minor": 5
}
