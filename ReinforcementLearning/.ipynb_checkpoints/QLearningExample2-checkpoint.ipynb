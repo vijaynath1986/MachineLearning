{
 "cells": [
  {
   "cell_type": "code",
   "execution_count": 29,
   "id": "026d5027-4d2b-4d2c-8f85-fb00e47f6710",
   "metadata": {},
   "outputs": [],
   "source": [
    "#Edureka\n",
    "#https://www.youtube.com/watch?v=DhdUlDIAG7Y"
   ]
  },
  {
   "cell_type": "code",
   "execution_count": 3,
   "id": "609db6de-03c0-4e3a-aa3a-1f4e789ad823",
   "metadata": {},
   "outputs": [],
   "source": [
    "import gymnasium as gym\n",
    "import numpy as np"
   ]
  },
  {
   "cell_type": "code",
   "execution_count": 7,
   "id": "4a1fe14e-d0a2-4447-9921-206b03932196",
   "metadata": {},
   "outputs": [],
   "source": [
    "q = []"
   ]
  },
  {
   "cell_type": "code",
   "execution_count": 25,
   "id": "c117664a-88ce-42b0-89af-d0f7ae091815",
   "metadata": {},
   "outputs": [],
   "source": [
    "def run (episodes):\n",
    "    learning_rate_a = 0.9\n",
    "    discount_factor_g = 0.9\n",
    "    #try:\n",
    "    env = gym.make(\"FrozenLake-v1\", map_name = \"8x8\", is_slippery=True, render_mode = 'None')\n",
    "    q = np.zeros((env.observation_space.n, env.action_space.n))\n",
    "    for i in range(episodes):\n",
    "        state = env.reset()[0]\n",
    "        terminated = False\n",
    "        truncated = False \n",
    "        while(not terminated and not truncated):\n",
    "            action = env.action_space.sample()\n",
    "            new_state, reward, terminated, truncated, _ = env.step(action)\n",
    "            q[state, action] = q[state, action] + learning_rate_a * (\n",
    "                reward + discount_factor_g * np.max(q[new_state, :]) - q[state, action]\n",
    "            )\n",
    "            #print(state, action, q[state, action])\n",
    "            state = new_state\n",
    "    env.close()\n",
    "    #except:\n",
    "     #   print(\"exception occured:\", NameError.with_traceback)\n",
    "     #   env.close()\n",
    "    #print(q)\n",
    "        "
   ]
  },
  {
   "cell_type": "code",
   "execution_count": 26,
   "id": "75f2ca88-76b2-4590-95a5-a764fad50eeb",
   "metadata": {},
   "outputs": [],
   "source": [
    "run(2)"
   ]
  },
  {
   "cell_type": "code",
   "execution_count": 6,
   "id": "2884a53a-986f-4aa9-8938-7cc8da5e6816",
   "metadata": {},
   "outputs": [
    {
     "name": "stdout",
     "output_type": "stream",
     "text": [
      "Requirement already satisfied: gymnasium[toy-text] in c:\\users\\vmaniara\\.conda\\envs\\snowflakes\\lib\\site-packages (0.29.1)\n",
      "Requirement already satisfied: numpy>=1.21.0 in c:\\users\\vmaniara\\.conda\\envs\\snowflakes\\lib\\site-packages (from gymnasium[toy-text]) (1.25.2)\n",
      "Requirement already satisfied: cloudpickle>=1.2.0 in c:\\users\\vmaniara\\.conda\\envs\\snowflakes\\lib\\site-packages (from gymnasium[toy-text]) (3.0.0)\n",
      "Requirement already satisfied: typing-extensions>=4.3.0 in c:\\users\\vmaniara\\appdata\\roaming\\python\\python311\\site-packages (from gymnasium[toy-text]) (4.8.0)\n",
      "Requirement already satisfied: farama-notifications>=0.0.1 in c:\\users\\vmaniara\\.conda\\envs\\snowflakes\\lib\\site-packages (from gymnasium[toy-text]) (0.0.4)\n",
      "Requirement already satisfied: pygame>=2.1.3 in c:\\users\\vmaniara\\.conda\\envs\\snowflakes\\lib\\site-packages (from gymnasium[toy-text]) (2.5.2)\n",
      "Note: you may need to restart the kernel to use updated packages.\n"
     ]
    }
   ],
   "source": [
    "pip install gymnasium[toy-text]"
   ]
  },
  {
   "cell_type": "code",
   "execution_count": 14,
   "id": "0500fb79-e9bb-4652-bcd4-5f1dd1170c01",
   "metadata": {},
   "outputs": [
    {
     "data": {
      "text/plain": [
       "4"
      ]
     },
     "execution_count": 14,
     "metadata": {},
     "output_type": "execute_result"
    }
   ],
   "source": [
    "env = gym.make(\"FrozenLake-v1\", map_name = \"8x8\", is_slippery=True, render_mode = 'human')\n",
    "env.action_space.n"
   ]
  },
  {
   "cell_type": "code",
   "execution_count": 31,
   "id": "aba7434a-f96b-4365-bfd5-e83b08199c04",
   "metadata": {},
   "outputs": [
    {
     "name": "stdout",
     "output_type": "stream",
     "text": [
      "2 0 4 0.0 False False\n",
      "2 4 0 0.0 False False\n",
      "3 0 0 0.0 False False\n",
      "0 0 0 0.0 False False\n",
      "3 0 0 0.0 False False\n",
      "1 0 1 0.0 False False\n",
      "1 1 2 0.0 False False\n",
      "0 2 1 0.0 False False\n",
      "0 1 0 0.0 False False\n",
      "3 0 0 0.0 False False\n",
      "0 0 4 0.0 False False\n",
      "1 4 8 0.0 False False\n",
      "3 8 4 0.0 False False\n",
      "1 4 4 0.0 False False\n",
      "2 4 5 0.0 True False\n"
     ]
    }
   ],
   "source": [
    "env = gym.make(\"FrozenLake-v1\", map_name = \"4x4\", is_slippery=True, render_mode = 'human')\n",
    "state = env.reset()[0]\n",
    "terminated = False\n",
    "truncated = False \n",
    "for i in np.range(2):\n",
    "    action = env.action_space.sample()\n",
    "    new_state, reward, terminated, truncated, _ = env.step(action)\n",
    "    print(state, action, new_state, reward, terminated, truncated)\n",
    "    state = new_state\n",
    "env.close()"
   ]
  },
  {
   "cell_type": "code",
   "execution_count": null,
   "id": "6d2e2fbc-2420-4729-b205-b77a39d2a3fe",
   "metadata": {},
   "outputs": [],
   "source": []
  }
 ],
 "metadata": {
  "kernelspec": {
   "display_name": "Python 3 (ipykernel)",
   "language": "python",
   "name": "python3"
  },
  "language_info": {
   "codemirror_mode": {
    "name": "ipython",
    "version": 3
   },
   "file_extension": ".py",
   "mimetype": "text/x-python",
   "name": "python",
   "nbconvert_exporter": "python",
   "pygments_lexer": "ipython3",
   "version": "3.11.5"
  }
 },
 "nbformat": 4,
 "nbformat_minor": 5
}
