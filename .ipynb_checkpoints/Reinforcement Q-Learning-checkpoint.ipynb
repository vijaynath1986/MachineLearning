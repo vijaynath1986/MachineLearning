{
 "cells": [
  {
   "cell_type": "code",
   "execution_count": 1,
   "id": "5c32ff5f-31a0-4a9d-90be-9c8fdf6d54a4",
   "metadata": {},
   "outputs": [],
   "source": [
    "import numpy as np"
   ]
  },
  {
   "cell_type": "code",
   "execution_count": 2,
   "id": "ab5a6922-e97f-4a19-a45f-38a5a91e6b83",
   "metadata": {},
   "outputs": [],
   "source": [
    "MATRIX_SIZE = 6"
   ]
  },
  {
   "cell_type": "code",
   "execution_count": 3,
   "id": "aaf4f4e5-8d95-4998-8d23-cd40205a7a3f",
   "metadata": {},
   "outputs": [],
   "source": [
    "R = np.matrix([\n",
    "    [-1, -1, -1, -1, 0, -1],\n",
    "    [-1, -1, -1, 0, -1, 100],\n",
    "    [-1, -1, -1, 0, -1, -1],\n",
    "    [-1, 0, 0, -1, 0, -1],\n",
    "    [0, -1, -1, 0, -1, 100],\n",
    "    [-1, 0,-1, -1, 0, 100]])"
   ]
  },
  {
   "cell_type": "code",
   "execution_count": 4,
   "id": "80958c84-f866-48f7-a12a-b5619061c9b5",
   "metadata": {},
   "outputs": [],
   "source": [
    "Q = np.matrix(np.zeros([MATRIX_SIZE, MATRIX_SIZE]))"
   ]
  },
  {
   "cell_type": "code",
   "execution_count": 5,
   "id": "77fcf858-4f4d-4878-810a-7c9e5e3ce8db",
   "metadata": {},
   "outputs": [],
   "source": [
    "initialState = 0"
   ]
  },
  {
   "cell_type": "code",
   "execution_count": 6,
   "id": "09267e0b-24e4-45d0-aa5f-c982b17f5d82",
   "metadata": {},
   "outputs": [],
   "source": [
    "gamma = 0.85"
   ]
  },
  {
   "cell_type": "code",
   "execution_count": 22,
   "id": "3748d324-fea0-4335-bd07-5617a0eef569",
   "metadata": {
    "scrolled": true
   },
   "outputs": [],
   "source": [
    "def getAvailableAction(state):\n",
    "    currentState_row = R[state,]\n",
    "    allPossibleActions = np.where(currentState_row >= 0)[1]\n",
    "    return allPossibleActions"
   ]
  },
  {
   "cell_type": "code",
   "execution_count": 30,
   "id": "7830e62f-2177-433d-9ad7-2b77631547ca",
   "metadata": {},
   "outputs": [],
   "source": [
    "allAvailableActions = getAvailableAction(initialState)"
   ]
  },
  {
   "cell_type": "code",
   "execution_count": 33,
   "id": "508a78cc-fca4-497a-b14c-4333e9d38e54",
   "metadata": {},
   "outputs": [],
   "source": [
    "def sample_next_action(allAvailableActions):\n",
    "    nextActoion = (np.random.choice(allAvailableActions, 1))\n",
    "    return nextActoion"
   ]
  },
  {
   "cell_type": "code",
   "execution_count": 35,
   "id": "16726c6c-3239-44c2-be99-075bfe72363a",
   "metadata": {},
   "outputs": [
    {
     "data": {
      "text/plain": [
       "array([4], dtype=int64)"
      ]
     },
     "execution_count": 35,
     "metadata": {},
     "output_type": "execute_result"
    }
   ],
   "source": [
    "sample_next_action(allAvailableActions)"
   ]
  },
  {
   "cell_type": "code",
   "execution_count": 23,
   "id": "0848162f-a8ce-4c87-9924-927befa687c5",
   "metadata": {},
   "outputs": [],
   "source": []
  },
  {
   "cell_type": "code",
   "execution_count": null,
   "id": "0a2f3224-8511-4b91-b4bd-4905592cdb05",
   "metadata": {},
   "outputs": [],
   "source": []
  }
 ],
 "metadata": {
  "kernelspec": {
   "display_name": "Python 3 (ipykernel)",
   "language": "python",
   "name": "python3"
  },
  "language_info": {
   "codemirror_mode": {
    "name": "ipython",
    "version": 3
   },
   "file_extension": ".py",
   "mimetype": "text/x-python",
   "name": "python",
   "nbconvert_exporter": "python",
   "pygments_lexer": "ipython3",
   "version": "3.11.5"
  }
 },
 "nbformat": 4,
 "nbformat_minor": 5
}
