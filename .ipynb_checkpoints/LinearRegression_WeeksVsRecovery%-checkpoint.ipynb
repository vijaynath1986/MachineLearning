{
 "cells": [
  {
   "cell_type": "code",
   "execution_count": 1,
   "id": "1e03e225",
   "metadata": {},
   "outputs": [],
   "source": [
    "import pandas as pd\n",
    "import numpy as np\n",
    "import seaborn as sns\n",
    "import matplotlib.pyplot as plot"
   ]
  },
  {
   "cell_type": "code",
   "execution_count": 2,
   "id": "20c69a87",
   "metadata": {},
   "outputs": [],
   "source": [
    "#Week versus Recovery data\n",
    "Week = [1, 2, 3, 4, 5, 6, 7, 8, 9, 10]\n",
    "Reduction_in_symptoms = [5, 8, 11, 14, 18, 20, 25, 26, 29, 31]"
   ]
  },
  {
   "cell_type": "code",
   "execution_count": 3,
   "id": "b1b28178",
   "metadata": {},
   "outputs": [
    {
     "data": {
      "text/plain": [
       "<matplotlib.collections.PathCollection at 0x2046d81c370>"
      ]
     },
     "execution_count": 3,
     "metadata": {},
     "output_type": "execute_result"
    },
    {
     "data": {
      "image/png": "[encoded data removed]",
      "text/plain": [
       "<Figure size 432x288 with 1 Axes>"
      ]
     },
     "metadata": {
      "needs_background": "light"
     },
     "output_type": "display_data"
    }
   ],
   "source": [
    "plot.scatter(x=Week, y=Reduction_in_symptoms)"
   ]
  },
  {
   "cell_type": "code",
   "execution_count": 4,
   "id": "05533874",
   "metadata": {},
   "outputs": [],
   "source": [
    "from sklearn.linear_model import LinearRegression"
   ]
  },
  {
   "cell_type": "code",
   "execution_count": 5,
   "id": "4f677a6b",
   "metadata": {},
   "outputs": [],
   "source": [
    "lrobj = LinearRegression()"
   ]
  },
  {
   "cell_type": "code",
   "execution_count": 7,
   "id": "9faa6eb2",
   "metadata": {},
   "outputs": [
    {
     "data": {
      "text/plain": [
       "LinearRegression()"
      ]
     },
     "execution_count": 7,
     "metadata": {},
     "output_type": "execute_result"
    }
   ],
   "source": [
    "#Fit the line to predict week - in which % of recovery given as input. like, Which week i get 100% recovery\n",
    "lrobj.fit(X=pd.DataFrame(Reduction_in_symptoms), y=Week)"
   ]
  },
  {
   "cell_type": "code",
   "execution_count": 8,
   "id": "92cc684d",
   "metadata": {},
   "outputs": [
    {
     "name": "stdout",
     "output_type": "stream",
     "text": [
      "slope: [0.33351447] Constant: -0.7367205542725177\n"
     ]
    }
   ],
   "source": [
    "print(\"slope:\",+lrobj.coef_, \"Constant:\",+lrobj.intercept_)"
   ]
  },
  {
   "cell_type": "code",
   "execution_count": 9,
   "id": "06922156",
   "metadata": {},
   "outputs": [
    {
     "data": {
      "text/plain": [
       "array([29.27958158, 32.61472626])"
      ]
     },
     "execution_count": 9,
     "metadata": {},
     "output_type": "execute_result"
    }
   ],
   "source": [
    "lrobj.predict([[90], [100]])"
   ]
  },
  {
   "cell_type": "code",
   "execution_count": 112,
   "id": "17ac5416",
   "metadata": {},
   "outputs": [
    {
     "data": {
      "text/plain": [
       "<AxesSubplot:>"
      ]
     },
     "execution_count": 112,
     "metadata": {},
     "output_type": "execute_result"
    },
    {
     "data": {
      "image/png": "[encoded data removed]",
      "text/plain": [
       "<Figure size 432x288 with 1 Axes>"
      ]
     },
     "metadata": {
      "needs_background": "light"
     },
     "output_type": "display_data"
    }
   ],
   "source": [
    "plot.figure(figsize=(20,10))\n",
    "plot.scatter(Reduction_in_symptoms, Week)\n",
    "plot.plot(Reduction_in_symptoms,lrobj.coef_*Reduction_in_symptoms+lrobj.intercept_)\n",
    "plot.plot(np.arange(1, 100, 0.5),lrobj.coef_*np.arange(1,100,0.5)+lrobj.intercept_)\n",
    "plot.xlabel(\"Recovery %\")\n",
    "plot.ylabel(\"Weeks\")\n",
    "plot.legend([\"Fit Line\",\"Data\"])\n",
    "plot.xlim((1,100))\n",
    "plot.ylim((1,40))"
   ]
  },
  {
   "cell_type": "code",
   "execution_count": null,
   "id": "34a844d7",
   "metadata": {},
   "outputs": [],
   "source": []
  },
  {
   "cell_type": "code",
   "execution_count": null,
   "id": "e036494d",
   "metadata": {},
   "outputs": [],
   "source": []
  }
 ],
 "metadata": {
  "kernelspec": {
   "display_name": "Python 3 (ipykernel)",
   "language": "python",
   "name": "python3"
  },
  "language_info": {
   "codemirror_mode": {
    "name": "ipython",
    "version": 3
   },
   "file_extension": ".py",
   "mimetype": "text/x-python",
   "name": "python",
   "nbconvert_exporter": "python",
   "pygments_lexer": "ipython3",
   "version": "3.9.7"
  }
 },
 "nbformat": 4,
 "nbformat_minor": 5
}
