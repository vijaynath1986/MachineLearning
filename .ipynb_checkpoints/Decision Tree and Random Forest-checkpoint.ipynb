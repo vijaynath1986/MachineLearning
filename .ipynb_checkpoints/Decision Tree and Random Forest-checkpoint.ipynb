{
 "cells": [
  {
   "cell_type": "code",
   "execution_count": 1,
   "id": "cad8947e",
   "metadata": {},
   "outputs": [],
   "source": [
    "import pandas as pd\n",
    "import numpy as np\n",
    "import seaborn as sns\n",
    "import matplotlib.pyplot as plt"
   ]
  },
  {
   "cell_type": "code",
   "execution_count": 2,
   "id": "bbc0a585",
   "metadata": {},
   "outputs": [],
   "source": [
    "df = pd.read_csv(\"pacific.csv\")"
   ]
  },
  {
   "cell_type": "code",
   "execution_count": 3,
   "id": "40d3d661",
   "metadata": {},
   "outputs": [
    {
     "data": {
      "text/html": [
       "<div>\n",
       "<style scoped>\n",
       "    .dataframe tbody tr th:only-of-type {\n",
       "        vertical-align: middle;\n",
       "    }\n",
       "\n",
       "    .dataframe tbody tr th {\n",
       "        vertical-align: top;\n",
       "    }\n",
       "\n",
       "    .dataframe thead th {\n",
       "        text-align: right;\n",
       "    }\n",
       "</style>\n",
       "<table border=\"1\" class=\"dataframe\">\n",
       "  <thead>\n",
       "    <tr style=\"text-align: right;\">\n",
       "      <th></th>\n",
       "      <th>ID</th>\n",
       "      <th>Name</th>\n",
       "      <th>Date</th>\n",
       "      <th>Time</th>\n",
       "      <th>Event</th>\n",
       "      <th>Status</th>\n",
       "      <th>Latitude</th>\n",
       "      <th>Longitude</th>\n",
       "      <th>Maximum Wind</th>\n",
       "      <th>Minimum Pressure</th>\n",
       "      <th>...</th>\n",
       "      <th>Low Wind SW</th>\n",
       "      <th>Low Wind NW</th>\n",
       "      <th>Moderate Wind NE</th>\n",
       "      <th>Moderate Wind SE</th>\n",
       "      <th>Moderate Wind SW</th>\n",
       "      <th>Moderate Wind NW</th>\n",
       "      <th>High Wind NE</th>\n",
       "      <th>High Wind SE</th>\n",
       "      <th>High Wind SW</th>\n",
       "      <th>High Wind NW</th>\n",
       "    </tr>\n",
       "  </thead>\n",
       "  <tbody>\n",
       "    <tr>\n",
       "      <th>0</th>\n",
       "      <td>EP011949</td>\n",
       "      <td>UNNAMED</td>\n",
       "      <td>19490611</td>\n",
       "      <td>0</td>\n",
       "      <td></td>\n",
       "      <td>TS</td>\n",
       "      <td>20.2N</td>\n",
       "      <td>106.3W</td>\n",
       "      <td>45</td>\n",
       "      <td>-999</td>\n",
       "      <td>...</td>\n",
       "      <td>-999</td>\n",
       "      <td>-999</td>\n",
       "      <td>-999</td>\n",
       "      <td>-999</td>\n",
       "      <td>-999</td>\n",
       "      <td>-999</td>\n",
       "      <td>-999</td>\n",
       "      <td>-999</td>\n",
       "      <td>-999</td>\n",
       "      <td>-999</td>\n",
       "    </tr>\n",
       "    <tr>\n",
       "      <th>1</th>\n",
       "      <td>EP011949</td>\n",
       "      <td>UNNAMED</td>\n",
       "      <td>19490611</td>\n",
       "      <td>600</td>\n",
       "      <td></td>\n",
       "      <td>TS</td>\n",
       "      <td>20.2N</td>\n",
       "      <td>106.4W</td>\n",
       "      <td>45</td>\n",
       "      <td>-999</td>\n",
       "      <td>...</td>\n",
       "      <td>-999</td>\n",
       "      <td>-999</td>\n",
       "      <td>-999</td>\n",
       "      <td>-999</td>\n",
       "      <td>-999</td>\n",
       "      <td>-999</td>\n",
       "      <td>-999</td>\n",
       "      <td>-999</td>\n",
       "      <td>-999</td>\n",
       "      <td>-999</td>\n",
       "    </tr>\n",
       "    <tr>\n",
       "      <th>2</th>\n",
       "      <td>EP011949</td>\n",
       "      <td>UNNAMED</td>\n",
       "      <td>19490611</td>\n",
       "      <td>1200</td>\n",
       "      <td></td>\n",
       "      <td>TS</td>\n",
       "      <td>20.2N</td>\n",
       "      <td>106.7W</td>\n",
       "      <td>45</td>\n",
       "      <td>-999</td>\n",
       "      <td>...</td>\n",
       "      <td>-999</td>\n",
       "      <td>-999</td>\n",
       "      <td>-999</td>\n",
       "      <td>-999</td>\n",
       "      <td>-999</td>\n",
       "      <td>-999</td>\n",
       "      <td>-999</td>\n",
       "      <td>-999</td>\n",
       "      <td>-999</td>\n",
       "      <td>-999</td>\n",
       "    </tr>\n",
       "    <tr>\n",
       "      <th>3</th>\n",
       "      <td>EP011949</td>\n",
       "      <td>UNNAMED</td>\n",
       "      <td>19490611</td>\n",
       "      <td>1800</td>\n",
       "      <td></td>\n",
       "      <td>TS</td>\n",
       "      <td>20.3N</td>\n",
       "      <td>107.7W</td>\n",
       "      <td>45</td>\n",
       "      <td>-999</td>\n",
       "      <td>...</td>\n",
       "      <td>-999</td>\n",
       "      <td>-999</td>\n",
       "      <td>-999</td>\n",
       "      <td>-999</td>\n",
       "      <td>-999</td>\n",
       "      <td>-999</td>\n",
       "      <td>-999</td>\n",
       "      <td>-999</td>\n",
       "      <td>-999</td>\n",
       "      <td>-999</td>\n",
       "    </tr>\n",
       "    <tr>\n",
       "      <th>4</th>\n",
       "      <td>EP011949</td>\n",
       "      <td>UNNAMED</td>\n",
       "      <td>19490612</td>\n",
       "      <td>0</td>\n",
       "      <td></td>\n",
       "      <td>TS</td>\n",
       "      <td>20.4N</td>\n",
       "      <td>108.6W</td>\n",
       "      <td>45</td>\n",
       "      <td>-999</td>\n",
       "      <td>...</td>\n",
       "      <td>-999</td>\n",
       "      <td>-999</td>\n",
       "      <td>-999</td>\n",
       "      <td>-999</td>\n",
       "      <td>-999</td>\n",
       "      <td>-999</td>\n",
       "      <td>-999</td>\n",
       "      <td>-999</td>\n",
       "      <td>-999</td>\n",
       "      <td>-999</td>\n",
       "    </tr>\n",
       "  </tbody>\n",
       "</table>\n",
       "<p>5 rows × 22 columns</p>\n",
       "</div>"
      ],
      "text/plain": [
       "         ID                 Name      Date  Time Event Status Latitude  \\\n",
       "0  EP011949              UNNAMED  19490611     0           TS    20.2N   \n",
       "1  EP011949              UNNAMED  19490611   600           TS    20.2N   \n",
       "2  EP011949              UNNAMED  19490611  1200           TS    20.2N   \n",
       "3  EP011949              UNNAMED  19490611  1800           TS    20.3N   \n",
       "4  EP011949              UNNAMED  19490612     0           TS    20.4N   \n",
       "\n",
       "  Longitude  Maximum Wind  Minimum Pressure  ...  Low Wind SW  Low Wind NW  \\\n",
       "0    106.3W            45              -999  ...         -999         -999   \n",
       "1    106.4W            45              -999  ...         -999         -999   \n",
       "2    106.7W            45              -999  ...         -999         -999   \n",
       "3    107.7W            45              -999  ...         -999         -999   \n",
       "4    108.6W            45              -999  ...         -999         -999   \n",
       "\n",
       "   Moderate Wind NE  Moderate Wind SE  Moderate Wind SW  Moderate Wind NW  \\\n",
       "0              -999              -999              -999              -999   \n",
       "1              -999              -999              -999              -999   \n",
       "2              -999              -999              -999              -999   \n",
       "3              -999              -999              -999              -999   \n",
       "4              -999              -999              -999              -999   \n",
       "\n",
       "   High Wind NE  High Wind SE  High Wind SW  High Wind NW  \n",
       "0          -999          -999          -999          -999  \n",
       "1          -999          -999          -999          -999  \n",
       "2          -999          -999          -999          -999  \n",
       "3          -999          -999          -999          -999  \n",
       "4          -999          -999          -999          -999  \n",
       "\n",
       "[5 rows x 22 columns]"
      ]
     },
     "execution_count": 3,
     "metadata": {},
     "output_type": "execute_result"
    }
   ],
   "source": [
    "df.head()"
   ]
  },
  {
   "cell_type": "code",
   "execution_count": 4,
   "id": "1175b8b1",
   "metadata": {},
   "outputs": [
    {
     "data": {
      "text/plain": [
       "array(['            UNNAMED', '               HIKI',\n",
       "       '              KANOA', '              DELLA',\n",
       "       '               NINA', '                DOT',\n",
       "       '              PATSY', '              WANDA',\n",
       "       '            ANNETTE', '              BONNY',\n",
       "       '            CELESTE', '              DIANA',\n",
       "       '            ESTELLE', '           FERNANDA',\n",
       "       '           HYACINTH', '                IVA',\n",
       "       '             JOANNE', '           KATHLEEN',\n",
       "       '               LIZA', '              NAOMI',\n",
       "       '               ORLA', '            PAULINE',\n",
       "       '            REBECCA', '             SIMONE',\n",
       "       '               TARA', '            VALERIE',\n",
       "       '              WILLA', '                AVA',\n",
       "       '            BERNICE', '            CLAUDIA',\n",
       "       '             DOREEN', '              EMILY',\n",
       "       '           FLORENCE', '             GLENDA',\n",
       "       '           JEN-KATH', '               IRAH',\n",
       "       '            LILLIAN', '               MONA',\n",
       "       '            NATALIE', '             ODESSA',\n",
       "       '           PRUDENCE', '            ROSALYN',\n",
       "       '             TILLIE', '           VICTORIA',\n",
       "       '             WALLIE', '              HAZEL',\n",
       "       '              ADELE', '             BLANCA',\n",
       "       '             CONNIE', '            DOLORES',\n",
       "       '             EILEEN', '          FRANCESCA',\n",
       "       '           GRETCHEN', '              HELGA',\n",
       "       '               IONE', '              JOYCE',\n",
       "       '            KIRSTEN', '           LORRAINE',\n",
       "       '             MAGGIE', '             AGATHA',\n",
       "       '            BRIDGET', '           CARLOTTA',\n",
       "       '             DENISE', '            ELEANOR',\n",
       "       '           FRANCENE', '          GEORGETTE',\n",
       "       '               ILSA', '              JEWEL',\n",
       "       '            KATRINA', '               LILY',\n",
       "       '              SARAH', '             MONICA',\n",
       "       '            NANETTE', '             OLIVIA',\n",
       "       '          PRISCILLA', '             RAMONA',\n",
       "       '               GWEN', '           MADELINE',\n",
       "       '            HEATHER', '           JENNIFER', 'IONE 2', 'IONE 1',\n",
       "       '            KRISTEN', '              NORMA',\n",
       "       '             ORLENE', '           PATRICIA',\n",
       "       '            ROSALIE', '              SELMA',\n",
       "       '             HILARY', '             SHARON',\n",
       "       '               JUNE', '               RUBY',\n",
       "       '          KATHERINE', '             ALETTA',\n",
       "       '              OLIVE', '               KATE',\n",
       "       '                BUD', '             DANIEL',\n",
       "       '             EMILIA', '               FICO',\n",
       "       '              GILMA', '             HECTOR',\n",
       "       '               JOHN', '             KRISTY',\n",
       "       '               LANE', '             MIRIAM',\n",
       "       '             NORMAN', '               PAUL',\n",
       "       '               ROSA', '              SUSAN',\n",
       "       '             SERGIO', '             ANDRES',\n",
       "       '             CARLOS', '            ENRIQUE',\n",
       "       '               FEFA', '          GUILLERMO',\n",
       "       '              HILDA', '            IGNACIO',\n",
       "       '             JIMENA', '               BLAS',\n",
       "       '              CELIA', '              DARBY',\n",
       "       '              FRANK', '             HOWARD',\n",
       "       '               ISIS', '             JAVIER',\n",
       "       '                KAY', '             LESTER',\n",
       "       '             NEWTON', '             ADRIAN',\n",
       "       '            BEATRIZ', '             CALVIN',\n",
       "       '               DORA', '             EUGENE',\n",
       "       '               GREG', '              IRWIN',\n",
       "       '               JOVA', '               KNUT',\n",
       "       '              LIDIA', '                MAX',\n",
       "       '               OTIS', '              FABIO',\n",
       "       '              AKONI', '                EMA',\n",
       "       '               HANA', '                IWA',\n",
       "       '             ADOLPH', '            BARBARA',\n",
       "       '              COSME', '            DALILIA',\n",
       "       '              ERICK', '            FLOSSIE',\n",
       "       '                GIL', '          HENRIETTE',\n",
       "       '             ISMAEL', '           JULIETTE',\n",
       "       '               KIKO', '             LORENA',\n",
       "       '             MANUEL', '              NARDA',\n",
       "       '             OCTAVE', '            RAYMOND',\n",
       "       '              SONIA', '               TICO',\n",
       "       '              VELMA', '             WINNIE',\n",
       "       '               ALMA', '              BORIS',\n",
       "       '           CRISTINA', '            DOUGLAS',\n",
       "       '              ELIDA', '             FAUSTO',\n",
       "       '          GENEVIEVE', '             HERNAN',\n",
       "       '             ISELLE', '              JULIO',\n",
       "       '               KELI', '              KENNA',\n",
       "       '               LALA', '             LOWELL',\n",
       "       '               MOKE', '              MARIE',\n",
       "       '            NORBERT', '              ODILE',\n",
       "       '               POLO', '             RACHEL',\n",
       "       '              SIMON', '              KEVIN',\n",
       "       '              LINDA', '              MARTY',\n",
       "       '               NORA', '               OLAF',\n",
       "       '               RICK', '             SANDRA',\n",
       "       '              TERRY', '             VIVIAN',\n",
       "       '              WALDO', '               NELE',\n",
       "       '               XINA', '              PAINE',\n",
       "       '             ROSLYN', '                OKA',\n",
       "       '               PEKE', '              PILAR',\n",
       "       '              RAMON', '              ULEKI',\n",
       "       '               WILA', '                AKA',\n",
       "       '              TRUDY', '              VANCE',\n",
       "       '            DELORES', '              EKEKA',\n",
       "       '               HALI', '              INIKI',\n",
       "       '            SEYMOUR', '               TINA',\n",
       "       '             VIRGIL', '           WINIFRED',\n",
       "       '             XAVIER', '            YOLANDA',\n",
       "       '               ZEKE', '              KEONI',\n",
       "       '            KENNETH', '                LI ',\n",
       "       '             ILEANA', '               MELE',\n",
       "       '               NONA', '             DALILA',\n",
       "       '            FELICIA', '              OLIWA',\n",
       "       '               PAKA', '              UPANA',\n",
       "       '               WENE', '                IVO',\n",
       "       '              ALIKA', '                ELE',\n",
       "       '               HUKO', '                ONE',\n",
       "       '            SIXTEEN', '                TWO',\n",
       "       '               IOKE', '              THREE',\n",
       "       '               FOUR', '           EIGHTEEN',\n",
       "       '             TWENTY', '              ALVIN',\n",
       "       '               FIVE', '           THIRTEEN',\n",
       "       '               KIKA', '             KARINA',\n",
       "       '          SEVENTEEN', '               LANA',\n",
       "       '               NINE', '               MAKA',\n",
       "       '               NEKI', '                SIX',\n",
       "       '              EIGHT', '                TEN',\n",
       "       '             ELEVEN', '              OMEKA',\n",
       "       '             TWELVE', '               PEWA',\n",
       "       '              UNALA', '             AMANDA',\n",
       "       '               WALI', '                ANA',\n",
       "       '                ELA'], dtype=object)"
      ]
     },
     "execution_count": 4,
     "metadata": {},
     "output_type": "execute_result"
    }
   ],
   "source": [
    "df.Name.unique()"
   ]
  },
  {
   "cell_type": "code",
   "execution_count": 5,
   "id": "8ec3154a",
   "metadata": {},
   "outputs": [
    {
     "data": {
      "text/plain": [
       "            UNNAMED    2180\n",
       "           FERNANDA     318\n",
       "               JOHN     295\n",
       "            ESTELLE     293\n",
       "             DANIEL     292\n",
       "                       ... \n",
       "             XAVIER       6\n",
       "IONE 1                    5\n",
       "              PILAR       5\n",
       "               MOKE       4\n",
       "             TWENTY       3\n",
       "Name: Name, Length: 267, dtype: int64"
      ]
     },
     "execution_count": 5,
     "metadata": {},
     "output_type": "execute_result"
    }
   ],
   "source": [
    "df.Name.value_counts()"
   ]
  },
  {
   "cell_type": "code",
   "execution_count": 6,
   "id": "ac365ad4",
   "metadata": {},
   "outputs": [
    {
     "data": {
      "text/plain": [
       " TS     10076\n",
       " TD      6965\n",
       " HU      6765\n",
       " LO      1828\n",
       " DB       217\n",
       " ET       152\n",
       " EX       110\n",
       " SS         7\n",
       " PT         6\n",
       " ST         6\n",
       " SD         4\n",
       " HU         1\n",
       "Name: Status, dtype: int64"
      ]
     },
     "execution_count": 6,
     "metadata": {},
     "output_type": "execute_result"
    }
   ],
   "source": [
    "df.Status.value_counts()"
   ]
  },
  {
   "cell_type": "code",
   "execution_count": 7,
   "id": "f275d72e",
   "metadata": {},
   "outputs": [
    {
     "data": {
      "text/plain": [
       "array([' TS', ' HU', ' TD', ' EX', ' LO', ' ET', ' DB', ' SD', ' SS',\n",
       "       ' PT', ' ST', ' HU '], dtype=object)"
      ]
     },
     "execution_count": 7,
     "metadata": {},
     "output_type": "execute_result"
    }
   ],
   "source": [
    "df.Status.unique()"
   ]
  },
  {
   "cell_type": "code",
   "execution_count": 8,
   "id": "e7a8d103",
   "metadata": {},
   "outputs": [
    {
     "data": {
      "text/plain": [
       "      26035\n",
       " L       90\n",
       " I        6\n",
       " S        3\n",
       " T        3\n",
       "Name: Event, dtype: int64"
      ]
     },
     "execution_count": 8,
     "metadata": {},
     "output_type": "execute_result"
    }
   ],
   "source": [
    "df.Event.value_counts()"
   ]
  },
  {
   "cell_type": "code",
   "execution_count": 9,
   "id": "e500f7c8",
   "metadata": {},
   "outputs": [
    {
     "data": {
      "text/plain": [
       "array(['  ', ' L', ' I', ' S', ' T'], dtype=object)"
      ]
     },
     "execution_count": 9,
     "metadata": {},
     "output_type": "execute_result"
    }
   ],
   "source": [
    "df.Event.unique()"
   ]
  },
  {
   "cell_type": "code",
   "execution_count": 10,
   "id": "41e5e4a7",
   "metadata": {},
   "outputs": [
    {
     "name": "stderr",
     "output_type": "stream",
     "text": [
      "C:\\Users\\vijay\\anaconda3\\lib\\site-packages\\seaborn\\_decorators.py:36: FutureWarning: Pass the following variable as a keyword arg: x. From version 0.12, the only valid positional argument will be `data`, and passing other arguments without an explicit keyword will result in an error or misinterpretation.\n",
      "  warnings.warn(\n"
     ]
    },
    {
     "data": {
      "text/plain": [
       "<AxesSubplot:xlabel='Status', ylabel='count'>"
      ]
     },
     "execution_count": 10,
     "metadata": {},
     "output_type": "execute_result"
    },
    {
     "data": {
      "image/png": "[encoded data removed]",
      "text/plain": [
       "<Figure size 432x288 with 1 Axes>"
      ]
     },
     "metadata": {
      "needs_background": "light"
     },
     "output_type": "display_data"
    }
   ],
   "source": [
    "sns.countplot(df.Status)"
   ]
  },
  {
   "cell_type": "code",
   "execution_count": 11,
   "id": "8407d3bf",
   "metadata": {
    "scrolled": true
   },
   "outputs": [
    {
     "data": {
      "text/plain": [
       " TS     10076\n",
       " TD      6965\n",
       " HU      6765\n",
       " LO      1828\n",
       " DB       217\n",
       " ET       152\n",
       " EX       110\n",
       " SS         7\n",
       " PT         6\n",
       " ST         6\n",
       " SD         4\n",
       " HU         1\n",
       "Name: Status, dtype: int64"
      ]
     },
     "execution_count": 11,
     "metadata": {},
     "output_type": "execute_result"
    }
   ],
   "source": [
    "df.Status.value_counts()"
   ]
  },
  {
   "cell_type": "code",
   "execution_count": 12,
   "id": "51239cc7",
   "metadata": {},
   "outputs": [],
   "source": [
    "df.drop(['ID', 'Name', 'Event', 'Latitude', 'Longitude'], inplace=True, axis=1)"
   ]
  },
  {
   "cell_type": "code",
   "execution_count": 13,
   "id": "92706ce6",
   "metadata": {
    "scrolled": true
   },
   "outputs": [
    {
     "data": {
      "text/html": [
       "<div>\n",
       "<style scoped>\n",
       "    .dataframe tbody tr th:only-of-type {\n",
       "        vertical-align: middle;\n",
       "    }\n",
       "\n",
       "    .dataframe tbody tr th {\n",
       "        vertical-align: top;\n",
       "    }\n",
       "\n",
       "    .dataframe thead th {\n",
       "        text-align: right;\n",
       "    }\n",
       "</style>\n",
       "<table border=\"1\" class=\"dataframe\">\n",
       "  <thead>\n",
       "    <tr style=\"text-align: right;\">\n",
       "      <th></th>\n",
       "      <th>Date</th>\n",
       "      <th>Time</th>\n",
       "      <th>Status</th>\n",
       "      <th>Maximum Wind</th>\n",
       "      <th>Minimum Pressure</th>\n",
       "      <th>Low Wind NE</th>\n",
       "      <th>Low Wind SE</th>\n",
       "      <th>Low Wind SW</th>\n",
       "      <th>Low Wind NW</th>\n",
       "      <th>Moderate Wind NE</th>\n",
       "      <th>Moderate Wind SE</th>\n",
       "      <th>Moderate Wind SW</th>\n",
       "      <th>Moderate Wind NW</th>\n",
       "      <th>High Wind NE</th>\n",
       "      <th>High Wind SE</th>\n",
       "      <th>High Wind SW</th>\n",
       "      <th>High Wind NW</th>\n",
       "    </tr>\n",
       "  </thead>\n",
       "  <tbody>\n",
       "    <tr>\n",
       "      <th>0</th>\n",
       "      <td>19490611</td>\n",
       "      <td>0</td>\n",
       "      <td>TS</td>\n",
       "      <td>45</td>\n",
       "      <td>-999</td>\n",
       "      <td>-999</td>\n",
       "      <td>-999</td>\n",
       "      <td>-999</td>\n",
       "      <td>-999</td>\n",
       "      <td>-999</td>\n",
       "      <td>-999</td>\n",
       "      <td>-999</td>\n",
       "      <td>-999</td>\n",
       "      <td>-999</td>\n",
       "      <td>-999</td>\n",
       "      <td>-999</td>\n",
       "      <td>-999</td>\n",
       "    </tr>\n",
       "    <tr>\n",
       "      <th>1</th>\n",
       "      <td>19490611</td>\n",
       "      <td>600</td>\n",
       "      <td>TS</td>\n",
       "      <td>45</td>\n",
       "      <td>-999</td>\n",
       "      <td>-999</td>\n",
       "      <td>-999</td>\n",
       "      <td>-999</td>\n",
       "      <td>-999</td>\n",
       "      <td>-999</td>\n",
       "      <td>-999</td>\n",
       "      <td>-999</td>\n",
       "      <td>-999</td>\n",
       "      <td>-999</td>\n",
       "      <td>-999</td>\n",
       "      <td>-999</td>\n",
       "      <td>-999</td>\n",
       "    </tr>\n",
       "    <tr>\n",
       "      <th>2</th>\n",
       "      <td>19490611</td>\n",
       "      <td>1200</td>\n",
       "      <td>TS</td>\n",
       "      <td>45</td>\n",
       "      <td>-999</td>\n",
       "      <td>-999</td>\n",
       "      <td>-999</td>\n",
       "      <td>-999</td>\n",
       "      <td>-999</td>\n",
       "      <td>-999</td>\n",
       "      <td>-999</td>\n",
       "      <td>-999</td>\n",
       "      <td>-999</td>\n",
       "      <td>-999</td>\n",
       "      <td>-999</td>\n",
       "      <td>-999</td>\n",
       "      <td>-999</td>\n",
       "    </tr>\n",
       "    <tr>\n",
       "      <th>3</th>\n",
       "      <td>19490611</td>\n",
       "      <td>1800</td>\n",
       "      <td>TS</td>\n",
       "      <td>45</td>\n",
       "      <td>-999</td>\n",
       "      <td>-999</td>\n",
       "      <td>-999</td>\n",
       "      <td>-999</td>\n",
       "      <td>-999</td>\n",
       "      <td>-999</td>\n",
       "      <td>-999</td>\n",
       "      <td>-999</td>\n",
       "      <td>-999</td>\n",
       "      <td>-999</td>\n",
       "      <td>-999</td>\n",
       "      <td>-999</td>\n",
       "      <td>-999</td>\n",
       "    </tr>\n",
       "    <tr>\n",
       "      <th>4</th>\n",
       "      <td>19490612</td>\n",
       "      <td>0</td>\n",
       "      <td>TS</td>\n",
       "      <td>45</td>\n",
       "      <td>-999</td>\n",
       "      <td>-999</td>\n",
       "      <td>-999</td>\n",
       "      <td>-999</td>\n",
       "      <td>-999</td>\n",
       "      <td>-999</td>\n",
       "      <td>-999</td>\n",
       "      <td>-999</td>\n",
       "      <td>-999</td>\n",
       "      <td>-999</td>\n",
       "      <td>-999</td>\n",
       "      <td>-999</td>\n",
       "      <td>-999</td>\n",
       "    </tr>\n",
       "  </tbody>\n",
       "</table>\n",
       "</div>"
      ],
      "text/plain": [
       "       Date  Time Status  Maximum Wind  Minimum Pressure  Low Wind NE  \\\n",
       "0  19490611     0     TS            45              -999         -999   \n",
       "1  19490611   600     TS            45              -999         -999   \n",
       "2  19490611  1200     TS            45              -999         -999   \n",
       "3  19490611  1800     TS            45              -999         -999   \n",
       "4  19490612     0     TS            45              -999         -999   \n",
       "\n",
       "   Low Wind SE  Low Wind SW  Low Wind NW  Moderate Wind NE  Moderate Wind SE  \\\n",
       "0         -999         -999         -999              -999              -999   \n",
       "1         -999         -999         -999              -999              -999   \n",
       "2         -999         -999         -999              -999              -999   \n",
       "3         -999         -999         -999              -999              -999   \n",
       "4         -999         -999         -999              -999              -999   \n",
       "\n",
       "   Moderate Wind SW  Moderate Wind NW  High Wind NE  High Wind SE  \\\n",
       "0              -999              -999          -999          -999   \n",
       "1              -999              -999          -999          -999   \n",
       "2              -999              -999          -999          -999   \n",
       "3              -999              -999          -999          -999   \n",
       "4              -999              -999          -999          -999   \n",
       "\n",
       "   High Wind SW  High Wind NW  \n",
       "0          -999          -999  \n",
       "1          -999          -999  \n",
       "2          -999          -999  \n",
       "3          -999          -999  \n",
       "4          -999          -999  "
      ]
     },
     "execution_count": 13,
     "metadata": {},
     "output_type": "execute_result"
    }
   ],
   "source": [
    "df.head()"
   ]
  },
  {
   "cell_type": "code",
   "execution_count": 14,
   "id": "2ed0b744",
   "metadata": {},
   "outputs": [],
   "source": [
    "corr = df.corr()"
   ]
  },
  {
   "cell_type": "code",
   "execution_count": 15,
   "id": "5869c87e",
   "metadata": {
    "scrolled": true
   },
   "outputs": [
    {
     "data": {
      "text/html": [
       "<div>\n",
       "<style scoped>\n",
       "    .dataframe tbody tr th:only-of-type {\n",
       "        vertical-align: middle;\n",
       "    }\n",
       "\n",
       "    .dataframe tbody tr th {\n",
       "        vertical-align: top;\n",
       "    }\n",
       "\n",
       "    .dataframe thead th {\n",
       "        text-align: right;\n",
       "    }\n",
       "</style>\n",
       "<table border=\"1\" class=\"dataframe\">\n",
       "  <thead>\n",
       "    <tr style=\"text-align: right;\">\n",
       "      <th></th>\n",
       "      <th>Date</th>\n",
       "      <th>Time</th>\n",
       "      <th>Maximum Wind</th>\n",
       "      <th>Minimum Pressure</th>\n",
       "      <th>Low Wind NE</th>\n",
       "      <th>Low Wind SE</th>\n",
       "      <th>Low Wind SW</th>\n",
       "      <th>Low Wind NW</th>\n",
       "      <th>Moderate Wind NE</th>\n",
       "      <th>Moderate Wind SE</th>\n",
       "      <th>Moderate Wind SW</th>\n",
       "      <th>Moderate Wind NW</th>\n",
       "      <th>High Wind NE</th>\n",
       "      <th>High Wind SE</th>\n",
       "      <th>High Wind SW</th>\n",
       "      <th>High Wind NW</th>\n",
       "    </tr>\n",
       "  </thead>\n",
       "  <tbody>\n",
       "    <tr>\n",
       "      <th>Date</th>\n",
       "      <td>1.000000</td>\n",
       "      <td>0.012556</td>\n",
       "      <td>-0.098097</td>\n",
       "      <td>0.791700</td>\n",
       "      <td>0.712189</td>\n",
       "      <td>0.712183</td>\n",
       "      <td>0.711943</td>\n",
       "      <td>0.711981</td>\n",
       "      <td>0.712539</td>\n",
       "      <td>0.712531</td>\n",
       "      <td>0.712465</td>\n",
       "      <td>0.712505</td>\n",
       "      <td>0.712593</td>\n",
       "      <td>0.712581</td>\n",
       "      <td>0.712552</td>\n",
       "      <td>0.712573</td>\n",
       "    </tr>\n",
       "    <tr>\n",
       "      <th>Time</th>\n",
       "      <td>0.012556</td>\n",
       "      <td>1.000000</td>\n",
       "      <td>0.003011</td>\n",
       "      <td>0.020606</td>\n",
       "      <td>0.005624</td>\n",
       "      <td>0.005531</td>\n",
       "      <td>0.005462</td>\n",
       "      <td>0.005675</td>\n",
       "      <td>0.005521</td>\n",
       "      <td>0.005464</td>\n",
       "      <td>0.005443</td>\n",
       "      <td>0.005490</td>\n",
       "      <td>0.005426</td>\n",
       "      <td>0.005423</td>\n",
       "      <td>0.005407</td>\n",
       "      <td>0.005417</td>\n",
       "    </tr>\n",
       "    <tr>\n",
       "      <th>Maximum Wind</th>\n",
       "      <td>-0.098097</td>\n",
       "      <td>0.003011</td>\n",
       "      <td>1.000000</td>\n",
       "      <td>-0.042467</td>\n",
       "      <td>-0.083013</td>\n",
       "      <td>-0.084993</td>\n",
       "      <td>-0.088562</td>\n",
       "      <td>-0.085466</td>\n",
       "      <td>-0.092953</td>\n",
       "      <td>-0.094380</td>\n",
       "      <td>-0.096111</td>\n",
       "      <td>-0.094227</td>\n",
       "      <td>-0.098669</td>\n",
       "      <td>-0.099521</td>\n",
       "      <td>-0.100564</td>\n",
       "      <td>-0.099410</td>\n",
       "    </tr>\n",
       "    <tr>\n",
       "      <th>Minimum Pressure</th>\n",
       "      <td>0.791700</td>\n",
       "      <td>0.020606</td>\n",
       "      <td>-0.042467</td>\n",
       "      <td>1.000000</td>\n",
       "      <td>0.557156</td>\n",
       "      <td>0.557323</td>\n",
       "      <td>0.557587</td>\n",
       "      <td>0.557251</td>\n",
       "      <td>0.557914</td>\n",
       "      <td>0.557977</td>\n",
       "      <td>0.558047</td>\n",
       "      <td>0.557974</td>\n",
       "      <td>0.558146</td>\n",
       "      <td>0.558173</td>\n",
       "      <td>0.558202</td>\n",
       "      <td>0.558170</td>\n",
       "    </tr>\n",
       "    <tr>\n",
       "      <th>Low Wind NE</th>\n",
       "      <td>0.712189</td>\n",
       "      <td>0.005624</td>\n",
       "      <td>-0.083013</td>\n",
       "      <td>0.557156</td>\n",
       "      <td>1.000000</td>\n",
       "      <td>0.999710</td>\n",
       "      <td>0.999500</td>\n",
       "      <td>0.999607</td>\n",
       "      <td>0.999340</td>\n",
       "      <td>0.999239</td>\n",
       "      <td>0.999120</td>\n",
       "      <td>0.999238</td>\n",
       "      <td>0.998947</td>\n",
       "      <td>0.998891</td>\n",
       "      <td>0.998819</td>\n",
       "      <td>0.998895</td>\n",
       "    </tr>\n",
       "    <tr>\n",
       "      <th>Low Wind SE</th>\n",
       "      <td>0.712183</td>\n",
       "      <td>0.005531</td>\n",
       "      <td>-0.084993</td>\n",
       "      <td>0.557323</td>\n",
       "      <td>0.999710</td>\n",
       "      <td>1.000000</td>\n",
       "      <td>0.999743</td>\n",
       "      <td>0.999363</td>\n",
       "      <td>0.999474</td>\n",
       "      <td>0.999450</td>\n",
       "      <td>0.999329</td>\n",
       "      <td>0.999390</td>\n",
       "      <td>0.999160</td>\n",
       "      <td>0.999123</td>\n",
       "      <td>0.999057</td>\n",
       "      <td>0.999114</td>\n",
       "    </tr>\n",
       "    <tr>\n",
       "      <th>Low Wind SW</th>\n",
       "      <td>0.711943</td>\n",
       "      <td>0.005462</td>\n",
       "      <td>-0.088562</td>\n",
       "      <td>0.557587</td>\n",
       "      <td>0.999500</td>\n",
       "      <td>0.999743</td>\n",
       "      <td>1.000000</td>\n",
       "      <td>0.999390</td>\n",
       "      <td>0.999660</td>\n",
       "      <td>0.999663</td>\n",
       "      <td>0.999619</td>\n",
       "      <td>0.999636</td>\n",
       "      <td>0.999465</td>\n",
       "      <td>0.999438</td>\n",
       "      <td>0.999394</td>\n",
       "      <td>0.999434</td>\n",
       "    </tr>\n",
       "    <tr>\n",
       "      <th>Low Wind NW</th>\n",
       "      <td>0.711981</td>\n",
       "      <td>0.005675</td>\n",
       "      <td>-0.085466</td>\n",
       "      <td>0.557251</td>\n",
       "      <td>0.999607</td>\n",
       "      <td>0.999363</td>\n",
       "      <td>0.999390</td>\n",
       "      <td>1.000000</td>\n",
       "      <td>0.999292</td>\n",
       "      <td>0.999206</td>\n",
       "      <td>0.999137</td>\n",
       "      <td>0.999243</td>\n",
       "      <td>0.998988</td>\n",
       "      <td>0.998941</td>\n",
       "      <td>0.998885</td>\n",
       "      <td>0.998952</td>\n",
       "    </tr>\n",
       "    <tr>\n",
       "      <th>Moderate Wind NE</th>\n",
       "      <td>0.712539</td>\n",
       "      <td>0.005521</td>\n",
       "      <td>-0.092953</td>\n",
       "      <td>0.557914</td>\n",
       "      <td>0.999340</td>\n",
       "      <td>0.999474</td>\n",
       "      <td>0.999660</td>\n",
       "      <td>0.999292</td>\n",
       "      <td>1.000000</td>\n",
       "      <td>0.999958</td>\n",
       "      <td>0.999923</td>\n",
       "      <td>0.999965</td>\n",
       "      <td>0.999867</td>\n",
       "      <td>0.999839</td>\n",
       "      <td>0.999805</td>\n",
       "      <td>0.999843</td>\n",
       "    </tr>\n",
       "    <tr>\n",
       "      <th>Moderate Wind SE</th>\n",
       "      <td>0.712531</td>\n",
       "      <td>0.005464</td>\n",
       "      <td>-0.094380</td>\n",
       "      <td>0.557977</td>\n",
       "      <td>0.999239</td>\n",
       "      <td>0.999450</td>\n",
       "      <td>0.999663</td>\n",
       "      <td>0.999206</td>\n",
       "      <td>0.999958</td>\n",
       "      <td>1.000000</td>\n",
       "      <td>0.999962</td>\n",
       "      <td>0.999954</td>\n",
       "      <td>0.999906</td>\n",
       "      <td>0.999892</td>\n",
       "      <td>0.999863</td>\n",
       "      <td>0.999888</td>\n",
       "    </tr>\n",
       "    <tr>\n",
       "      <th>Moderate Wind SW</th>\n",
       "      <td>0.712465</td>\n",
       "      <td>0.005443</td>\n",
       "      <td>-0.096111</td>\n",
       "      <td>0.558047</td>\n",
       "      <td>0.999120</td>\n",
       "      <td>0.999329</td>\n",
       "      <td>0.999619</td>\n",
       "      <td>0.999137</td>\n",
       "      <td>0.999923</td>\n",
       "      <td>0.999962</td>\n",
       "      <td>1.000000</td>\n",
       "      <td>0.999960</td>\n",
       "      <td>0.999946</td>\n",
       "      <td>0.999938</td>\n",
       "      <td>0.999922</td>\n",
       "      <td>0.999936</td>\n",
       "    </tr>\n",
       "    <tr>\n",
       "      <th>Moderate Wind NW</th>\n",
       "      <td>0.712505</td>\n",
       "      <td>0.005490</td>\n",
       "      <td>-0.094227</td>\n",
       "      <td>0.557974</td>\n",
       "      <td>0.999238</td>\n",
       "      <td>0.999390</td>\n",
       "      <td>0.999636</td>\n",
       "      <td>0.999243</td>\n",
       "      <td>0.999965</td>\n",
       "      <td>0.999954</td>\n",
       "      <td>0.999960</td>\n",
       "      <td>1.000000</td>\n",
       "      <td>0.999911</td>\n",
       "      <td>0.999889</td>\n",
       "      <td>0.999862</td>\n",
       "      <td>0.999896</td>\n",
       "    </tr>\n",
       "    <tr>\n",
       "      <th>High Wind NE</th>\n",
       "      <td>0.712593</td>\n",
       "      <td>0.005426</td>\n",
       "      <td>-0.098669</td>\n",
       "      <td>0.558146</td>\n",
       "      <td>0.998947</td>\n",
       "      <td>0.999160</td>\n",
       "      <td>0.999465</td>\n",
       "      <td>0.998988</td>\n",
       "      <td>0.999867</td>\n",
       "      <td>0.999906</td>\n",
       "      <td>0.999946</td>\n",
       "      <td>0.999911</td>\n",
       "      <td>1.000000</td>\n",
       "      <td>0.999992</td>\n",
       "      <td>0.999981</td>\n",
       "      <td>0.999993</td>\n",
       "    </tr>\n",
       "    <tr>\n",
       "      <th>High Wind SE</th>\n",
       "      <td>0.712581</td>\n",
       "      <td>0.005423</td>\n",
       "      <td>-0.099521</td>\n",
       "      <td>0.558173</td>\n",
       "      <td>0.998891</td>\n",
       "      <td>0.999123</td>\n",
       "      <td>0.999438</td>\n",
       "      <td>0.998941</td>\n",
       "      <td>0.999839</td>\n",
       "      <td>0.999892</td>\n",
       "      <td>0.999938</td>\n",
       "      <td>0.999889</td>\n",
       "      <td>0.999992</td>\n",
       "      <td>1.000000</td>\n",
       "      <td>0.999992</td>\n",
       "      <td>0.999991</td>\n",
       "    </tr>\n",
       "    <tr>\n",
       "      <th>High Wind SW</th>\n",
       "      <td>0.712552</td>\n",
       "      <td>0.005407</td>\n",
       "      <td>-0.100564</td>\n",
       "      <td>0.558202</td>\n",
       "      <td>0.998819</td>\n",
       "      <td>0.999057</td>\n",
       "      <td>0.999394</td>\n",
       "      <td>0.998885</td>\n",
       "      <td>0.999805</td>\n",
       "      <td>0.999863</td>\n",
       "      <td>0.999922</td>\n",
       "      <td>0.999862</td>\n",
       "      <td>0.999981</td>\n",
       "      <td>0.999992</td>\n",
       "      <td>1.000000</td>\n",
       "      <td>0.999989</td>\n",
       "    </tr>\n",
       "    <tr>\n",
       "      <th>High Wind NW</th>\n",
       "      <td>0.712573</td>\n",
       "      <td>0.005417</td>\n",
       "      <td>-0.099410</td>\n",
       "      <td>0.558170</td>\n",
       "      <td>0.998895</td>\n",
       "      <td>0.999114</td>\n",
       "      <td>0.999434</td>\n",
       "      <td>0.998952</td>\n",
       "      <td>0.999843</td>\n",
       "      <td>0.999888</td>\n",
       "      <td>0.999936</td>\n",
       "      <td>0.999896</td>\n",
       "      <td>0.999993</td>\n",
       "      <td>0.999991</td>\n",
       "      <td>0.999989</td>\n",
       "      <td>1.000000</td>\n",
       "    </tr>\n",
       "  </tbody>\n",
       "</table>\n",
       "</div>"
      ],
      "text/plain": [
       "                      Date      Time  Maximum Wind  Minimum Pressure  \\\n",
       "Date              1.000000  0.012556     -0.098097          0.791700   \n",
       "Time              0.012556  1.000000      0.003011          0.020606   \n",
       "Maximum Wind     -0.098097  0.003011      1.000000         -0.042467   \n",
       "Minimum Pressure  0.791700  0.020606     -0.042467          1.000000   \n",
       "Low Wind NE       0.712189  0.005624     -0.083013          0.557156   \n",
       "Low Wind SE       0.712183  0.005531     -0.084993          0.557323   \n",
       "Low Wind SW       0.711943  0.005462     -0.088562          0.557587   \n",
       "Low Wind NW       0.711981  0.005675     -0.085466          0.557251   \n",
       "Moderate Wind NE  0.712539  0.005521     -0.092953          0.557914   \n",
       "Moderate Wind SE  0.712531  0.005464     -0.094380          0.557977   \n",
       "Moderate Wind SW  0.712465  0.005443     -0.096111          0.558047   \n",
       "Moderate Wind NW  0.712505  0.005490     -0.094227          0.557974   \n",
       "High Wind NE      0.712593  0.005426     -0.098669          0.558146   \n",
       "High Wind SE      0.712581  0.005423     -0.099521          0.558173   \n",
       "High Wind SW      0.712552  0.005407     -0.100564          0.558202   \n",
       "High Wind NW      0.712573  0.005417     -0.099410          0.558170   \n",
       "\n",
       "                  Low Wind NE  Low Wind SE  Low Wind SW  Low Wind NW  \\\n",
       "Date                 0.712189     0.712183     0.711943     0.711981   \n",
       "Time                 0.005624     0.005531     0.005462     0.005675   \n",
       "Maximum Wind        -0.083013    -0.084993    -0.088562    -0.085466   \n",
       "Minimum Pressure     0.557156     0.557323     0.557587     0.557251   \n",
       "Low Wind NE          1.000000     0.999710     0.999500     0.999607   \n",
       "Low Wind SE          0.999710     1.000000     0.999743     0.999363   \n",
       "Low Wind SW          0.999500     0.999743     1.000000     0.999390   \n",
       "Low Wind NW          0.999607     0.999363     0.999390     1.000000   \n",
       "Moderate Wind NE     0.999340     0.999474     0.999660     0.999292   \n",
       "Moderate Wind SE     0.999239     0.999450     0.999663     0.999206   \n",
       "Moderate Wind SW     0.999120     0.999329     0.999619     0.999137   \n",
       "Moderate Wind NW     0.999238     0.999390     0.999636     0.999243   \n",
       "High Wind NE         0.998947     0.999160     0.999465     0.998988   \n",
       "High Wind SE         0.998891     0.999123     0.999438     0.998941   \n",
       "High Wind SW         0.998819     0.999057     0.999394     0.998885   \n",
       "High Wind NW         0.998895     0.999114     0.999434     0.998952   \n",
       "\n",
       "                  Moderate Wind NE  Moderate Wind SE  Moderate Wind SW  \\\n",
       "Date                      0.712539          0.712531          0.712465   \n",
       "Time                      0.005521          0.005464          0.005443   \n",
       "Maximum Wind             -0.092953         -0.094380         -0.096111   \n",
       "Minimum Pressure          0.557914          0.557977          0.558047   \n",
       "Low Wind NE               0.999340          0.999239          0.999120   \n",
       "Low Wind SE               0.999474          0.999450          0.999329   \n",
       "Low Wind SW               0.999660          0.999663          0.999619   \n",
       "Low Wind NW               0.999292          0.999206          0.999137   \n",
       "Moderate Wind NE          1.000000          0.999958          0.999923   \n",
       "Moderate Wind SE          0.999958          1.000000          0.999962   \n",
       "Moderate Wind SW          0.999923          0.999962          1.000000   \n",
       "Moderate Wind NW          0.999965          0.999954          0.999960   \n",
       "High Wind NE              0.999867          0.999906          0.999946   \n",
       "High Wind SE              0.999839          0.999892          0.999938   \n",
       "High Wind SW              0.999805          0.999863          0.999922   \n",
       "High Wind NW              0.999843          0.999888          0.999936   \n",
       "\n",
       "                  Moderate Wind NW  High Wind NE  High Wind SE  High Wind SW  \\\n",
       "Date                      0.712505      0.712593      0.712581      0.712552   \n",
       "Time                      0.005490      0.005426      0.005423      0.005407   \n",
       "Maximum Wind             -0.094227     -0.098669     -0.099521     -0.100564   \n",
       "Minimum Pressure          0.557974      0.558146      0.558173      0.558202   \n",
       "Low Wind NE               0.999238      0.998947      0.998891      0.998819   \n",
       "Low Wind SE               0.999390      0.999160      0.999123      0.999057   \n",
       "Low Wind SW               0.999636      0.999465      0.999438      0.999394   \n",
       "Low Wind NW               0.999243      0.998988      0.998941      0.998885   \n",
       "Moderate Wind NE          0.999965      0.999867      0.999839      0.999805   \n",
       "Moderate Wind SE          0.999954      0.999906      0.999892      0.999863   \n",
       "Moderate Wind SW          0.999960      0.999946      0.999938      0.999922   \n",
       "Moderate Wind NW          1.000000      0.999911      0.999889      0.999862   \n",
       "High Wind NE              0.999911      1.000000      0.999992      0.999981   \n",
       "High Wind SE              0.999889      0.999992      1.000000      0.999992   \n",
       "High Wind SW              0.999862      0.999981      0.999992      1.000000   \n",
       "High Wind NW              0.999896      0.999993      0.999991      0.999989   \n",
       "\n",
       "                  High Wind NW  \n",
       "Date                  0.712573  \n",
       "Time                  0.005417  \n",
       "Maximum Wind         -0.099410  \n",
       "Minimum Pressure      0.558170  \n",
       "Low Wind NE           0.998895  \n",
       "Low Wind SE           0.999114  \n",
       "Low Wind SW           0.999434  \n",
       "Low Wind NW           0.998952  \n",
       "Moderate Wind NE      0.999843  \n",
       "Moderate Wind SE      0.999888  \n",
       "Moderate Wind SW      0.999936  \n",
       "Moderate Wind NW      0.999896  \n",
       "High Wind NE          0.999993  \n",
       "High Wind SE          0.999991  \n",
       "High Wind SW          0.999989  \n",
       "High Wind NW          1.000000  "
      ]
     },
     "execution_count": 15,
     "metadata": {},
     "output_type": "execute_result"
    }
   ],
   "source": [
    "corr"
   ]
  },
  {
   "cell_type": "code",
   "execution_count": 16,
   "id": "91356a56",
   "metadata": {},
   "outputs": [
    {
     "data": {
      "text/plain": [
       "<AxesSubplot:>"
      ]
     },
     "execution_count": 16,
     "metadata": {},
     "output_type": "execute_result"
    },
    {
     "data": {
      "image/png": "[encoded data removed]",
      "text/plain": [
       "<Figure size 1080x360 with 2 Axes>"
      ]
     },
     "metadata": {
      "needs_background": "light"
     },
     "output_type": "display_data"
    }
   ],
   "source": [
    "plt.figure(figsize=[15, 5])\n",
    "sns.heatmap(corr)"
   ]
  },
  {
   "cell_type": "code",
   "execution_count": 17,
   "id": "bb68c453",
   "metadata": {},
   "outputs": [],
   "source": [
    "x = df.drop(['Status'], axis=1)\n",
    "y = df.Status"
   ]
  },
  {
   "cell_type": "code",
   "execution_count": 18,
   "id": "8f15fdfc",
   "metadata": {},
   "outputs": [],
   "source": [
    "from sklearn.model_selection import train_test_split"
   ]
  },
  {
   "cell_type": "code",
   "execution_count": 19,
   "id": "367f5700",
   "metadata": {},
   "outputs": [],
   "source": [
    "trainx, testx, trainy, testy = train_test_split(x, y, test_size=0.33, random_state=5)"
   ]
  },
  {
   "cell_type": "code",
   "execution_count": 20,
   "id": "cfd652ca",
   "metadata": {},
   "outputs": [
    {
     "name": "stdout",
     "output_type": "stream",
     "text": [
      "(17511, 16)\n",
      "(8626, 16)\n",
      "(17511,)\n",
      "(8626,)\n"
     ]
    }
   ],
   "source": [
    "print(trainx.shape)\n",
    "print(testx.shape)\n",
    "print(trainy.shape)\n",
    "print(testy.shape)"
   ]
  },
  {
   "cell_type": "code",
   "execution_count": 21,
   "id": "d57f1e2a",
   "metadata": {},
   "outputs": [],
   "source": [
    "from sklearn.tree import DecisionTreeClassifier"
   ]
  },
  {
   "cell_type": "code",
   "execution_count": 22,
   "id": "bcf96a0e",
   "metadata": {},
   "outputs": [],
   "source": [
    "dtObj = DecisionTreeClassifier()"
   ]
  },
  {
   "cell_type": "code",
   "execution_count": 23,
   "id": "c9645b8a",
   "metadata": {},
   "outputs": [
    {
     "data": {
      "text/plain": [
       "DecisionTreeClassifier()"
      ]
     },
     "execution_count": 23,
     "metadata": {},
     "output_type": "execute_result"
    }
   ],
   "source": [
    "dtObj.fit(trainx, trainy)"
   ]
  },
  {
   "cell_type": "code",
   "execution_count": 24,
   "id": "0b932404",
   "metadata": {},
   "outputs": [],
   "source": [
    "predictedy = dtObj.predict(testx)"
   ]
  },
  {
   "cell_type": "code",
   "execution_count": 25,
   "id": "f25ce95b",
   "metadata": {},
   "outputs": [
    {
     "data": {
      "text/plain": [
       "array([' TS', ' TS', ' HU', ..., ' TD', ' TS', ' TD'], dtype=object)"
      ]
     },
     "execution_count": 25,
     "metadata": {},
     "output_type": "execute_result"
    }
   ],
   "source": [
    "predictedy"
   ]
  },
  {
   "cell_type": "code",
   "execution_count": 26,
   "id": "d2eb4b3e",
   "metadata": {},
   "outputs": [
    {
     "data": {
      "text/html": [
       "<div>\n",
       "<style scoped>\n",
       "    .dataframe tbody tr th:only-of-type {\n",
       "        vertical-align: middle;\n",
       "    }\n",
       "\n",
       "    .dataframe tbody tr th {\n",
       "        vertical-align: top;\n",
       "    }\n",
       "\n",
       "    .dataframe thead th {\n",
       "        text-align: right;\n",
       "    }\n",
       "</style>\n",
       "<table border=\"1\" class=\"dataframe\">\n",
       "  <thead>\n",
       "    <tr style=\"text-align: right;\">\n",
       "      <th></th>\n",
       "      <th>RealY</th>\n",
       "      <th>PredictedY</th>\n",
       "    </tr>\n",
       "  </thead>\n",
       "  <tbody>\n",
       "    <tr>\n",
       "      <th>10506</th>\n",
       "      <td>TS</td>\n",
       "      <td>TS</td>\n",
       "    </tr>\n",
       "    <tr>\n",
       "      <th>21194</th>\n",
       "      <td>TS</td>\n",
       "      <td>TS</td>\n",
       "    </tr>\n",
       "    <tr>\n",
       "      <th>92</th>\n",
       "      <td>HU</td>\n",
       "      <td>HU</td>\n",
       "    </tr>\n",
       "    <tr>\n",
       "      <th>21301</th>\n",
       "      <td>LO</td>\n",
       "      <td>LO</td>\n",
       "    </tr>\n",
       "    <tr>\n",
       "      <th>21668</th>\n",
       "      <td>TS</td>\n",
       "      <td>TS</td>\n",
       "    </tr>\n",
       "    <tr>\n",
       "      <th>...</th>\n",
       "      <td>...</td>\n",
       "      <td>...</td>\n",
       "    </tr>\n",
       "    <tr>\n",
       "      <th>19518</th>\n",
       "      <td>TS</td>\n",
       "      <td>TS</td>\n",
       "    </tr>\n",
       "    <tr>\n",
       "      <th>4204</th>\n",
       "      <td>TS</td>\n",
       "      <td>TS</td>\n",
       "    </tr>\n",
       "    <tr>\n",
       "      <th>13165</th>\n",
       "      <td>TD</td>\n",
       "      <td>TD</td>\n",
       "    </tr>\n",
       "    <tr>\n",
       "      <th>4019</th>\n",
       "      <td>TS</td>\n",
       "      <td>TS</td>\n",
       "    </tr>\n",
       "    <tr>\n",
       "      <th>4266</th>\n",
       "      <td>TD</td>\n",
       "      <td>TD</td>\n",
       "    </tr>\n",
       "  </tbody>\n",
       "</table>\n",
       "<p>8626 rows × 2 columns</p>\n",
       "</div>"
      ],
      "text/plain": [
       "      RealY PredictedY\n",
       "10506    TS         TS\n",
       "21194    TS         TS\n",
       "92       HU         HU\n",
       "21301    LO         LO\n",
       "21668    TS         TS\n",
       "...     ...        ...\n",
       "19518    TS         TS\n",
       "4204     TS         TS\n",
       "13165    TD         TD\n",
       "4019     TS         TS\n",
       "4266     TD         TD\n",
       "\n",
       "[8626 rows x 2 columns]"
      ]
     },
     "execution_count": 26,
     "metadata": {},
     "output_type": "execute_result"
    }
   ],
   "source": [
    "pd.DataFrame({\"RealY\": testy, \"PredictedY\": predictedy})"
   ]
  },
  {
   "cell_type": "code",
   "execution_count": 27,
   "id": "1bb138ce",
   "metadata": {},
   "outputs": [
    {
     "data": {
      "text/plain": [
       "10506     TS\n",
       "21194     TS\n",
       "92        HU\n",
       "21301     LO\n",
       "21668     TS\n",
       "        ... \n",
       "19518     TS\n",
       "4204      TS\n",
       "13165     TD\n",
       "4019      TS\n",
       "4266      TD\n",
       "Name: Status, Length: 8626, dtype: object"
      ]
     },
     "execution_count": 27,
     "metadata": {},
     "output_type": "execute_result"
    }
   ],
   "source": [
    "testy"
   ]
  },
  {
   "cell_type": "code",
   "execution_count": 28,
   "id": "ddd9c56f",
   "metadata": {},
   "outputs": [],
   "source": [
    "from sklearn.metrics import confusion_matrix"
   ]
  },
  {
   "cell_type": "code",
   "execution_count": 29,
   "id": "a2d78297",
   "metadata": {
    "scrolled": true
   },
   "outputs": [],
   "source": [
    "confu = confusion_matrix(testy, predictedy)"
   ]
  },
  {
   "cell_type": "code",
   "execution_count": 30,
   "id": "b88b481b",
   "metadata": {
    "scrolled": true
   },
   "outputs": [
    {
     "data": {
      "text/plain": [
       "array([' DB', ' ET', ' EX', ' HU', ' LO', ' PT', ' SD', ' SS', ' ST',\n",
       "       ' TD', ' TS'], dtype=object)"
      ]
     },
     "execution_count": 30,
     "metadata": {},
     "output_type": "execute_result"
    }
   ],
   "source": [
    "dtObj.classes_"
   ]
  },
  {
   "cell_type": "code",
   "execution_count": 31,
   "id": "31d34a00",
   "metadata": {},
   "outputs": [
    {
     "data": {
      "text/html": [
       "<div>\n",
       "<style scoped>\n",
       "    .dataframe tbody tr th:only-of-type {\n",
       "        vertical-align: middle;\n",
       "    }\n",
       "\n",
       "    .dataframe tbody tr th {\n",
       "        vertical-align: top;\n",
       "    }\n",
       "\n",
       "    .dataframe thead th {\n",
       "        text-align: right;\n",
       "    }\n",
       "</style>\n",
       "<table border=\"1\" class=\"dataframe\">\n",
       "  <thead>\n",
       "    <tr style=\"text-align: right;\">\n",
       "      <th></th>\n",
       "      <th>DB</th>\n",
       "      <th>ET</th>\n",
       "      <th>EX</th>\n",
       "      <th>HU</th>\n",
       "      <th>LO</th>\n",
       "      <th>PT</th>\n",
       "      <th>SD</th>\n",
       "      <th>SS</th>\n",
       "      <th>ST</th>\n",
       "      <th>TD</th>\n",
       "      <th>TS</th>\n",
       "    </tr>\n",
       "  </thead>\n",
       "  <tbody>\n",
       "    <tr>\n",
       "      <th>DB</th>\n",
       "      <td>61</td>\n",
       "      <td>0</td>\n",
       "      <td>0</td>\n",
       "      <td>0</td>\n",
       "      <td>0</td>\n",
       "      <td>8</td>\n",
       "      <td>0</td>\n",
       "      <td>0</td>\n",
       "      <td>0</td>\n",
       "      <td>7</td>\n",
       "      <td>0</td>\n",
       "    </tr>\n",
       "    <tr>\n",
       "      <th>ET</th>\n",
       "      <td>0</td>\n",
       "      <td>16</td>\n",
       "      <td>0</td>\n",
       "      <td>2</td>\n",
       "      <td>0</td>\n",
       "      <td>0</td>\n",
       "      <td>0</td>\n",
       "      <td>0</td>\n",
       "      <td>0</td>\n",
       "      <td>23</td>\n",
       "      <td>3</td>\n",
       "    </tr>\n",
       "    <tr>\n",
       "      <th>EX</th>\n",
       "      <td>0</td>\n",
       "      <td>0</td>\n",
       "      <td>23</td>\n",
       "      <td>1</td>\n",
       "      <td>0</td>\n",
       "      <td>0</td>\n",
       "      <td>0</td>\n",
       "      <td>0</td>\n",
       "      <td>0</td>\n",
       "      <td>6</td>\n",
       "      <td>6</td>\n",
       "    </tr>\n",
       "    <tr>\n",
       "      <th>HU</th>\n",
       "      <td>0</td>\n",
       "      <td>3</td>\n",
       "      <td>2</td>\n",
       "      <td>2265</td>\n",
       "      <td>0</td>\n",
       "      <td>0</td>\n",
       "      <td>0</td>\n",
       "      <td>0</td>\n",
       "      <td>0</td>\n",
       "      <td>0</td>\n",
       "      <td>1</td>\n",
       "    </tr>\n",
       "    <tr>\n",
       "      <th>LO</th>\n",
       "      <td>0</td>\n",
       "      <td>0</td>\n",
       "      <td>0</td>\n",
       "      <td>1</td>\n",
       "      <td>0</td>\n",
       "      <td>0</td>\n",
       "      <td>0</td>\n",
       "      <td>0</td>\n",
       "      <td>0</td>\n",
       "      <td>0</td>\n",
       "      <td>0</td>\n",
       "    </tr>\n",
       "    <tr>\n",
       "      <th>PT</th>\n",
       "      <td>7</td>\n",
       "      <td>0</td>\n",
       "      <td>1</td>\n",
       "      <td>0</td>\n",
       "      <td>0</td>\n",
       "      <td>483</td>\n",
       "      <td>0</td>\n",
       "      <td>0</td>\n",
       "      <td>0</td>\n",
       "      <td>87</td>\n",
       "      <td>8</td>\n",
       "    </tr>\n",
       "    <tr>\n",
       "      <th>SD</th>\n",
       "      <td>0</td>\n",
       "      <td>0</td>\n",
       "      <td>0</td>\n",
       "      <td>0</td>\n",
       "      <td>0</td>\n",
       "      <td>0</td>\n",
       "      <td>0</td>\n",
       "      <td>0</td>\n",
       "      <td>0</td>\n",
       "      <td>0</td>\n",
       "      <td>0</td>\n",
       "    </tr>\n",
       "    <tr>\n",
       "      <th>SS</th>\n",
       "      <td>0</td>\n",
       "      <td>0</td>\n",
       "      <td>0</td>\n",
       "      <td>0</td>\n",
       "      <td>0</td>\n",
       "      <td>0</td>\n",
       "      <td>0</td>\n",
       "      <td>2</td>\n",
       "      <td>0</td>\n",
       "      <td>0</td>\n",
       "      <td>1</td>\n",
       "    </tr>\n",
       "    <tr>\n",
       "      <th>ST</th>\n",
       "      <td>0</td>\n",
       "      <td>0</td>\n",
       "      <td>0</td>\n",
       "      <td>0</td>\n",
       "      <td>0</td>\n",
       "      <td>0</td>\n",
       "      <td>0</td>\n",
       "      <td>0</td>\n",
       "      <td>1</td>\n",
       "      <td>0</td>\n",
       "      <td>0</td>\n",
       "    </tr>\n",
       "    <tr>\n",
       "      <th>TD</th>\n",
       "      <td>3</td>\n",
       "      <td>18</td>\n",
       "      <td>2</td>\n",
       "      <td>0</td>\n",
       "      <td>0</td>\n",
       "      <td>76</td>\n",
       "      <td>0</td>\n",
       "      <td>0</td>\n",
       "      <td>0</td>\n",
       "      <td>2181</td>\n",
       "      <td>0</td>\n",
       "    </tr>\n",
       "    <tr>\n",
       "      <th>TS</th>\n",
       "      <td>0</td>\n",
       "      <td>4</td>\n",
       "      <td>13</td>\n",
       "      <td>1</td>\n",
       "      <td>0</td>\n",
       "      <td>8</td>\n",
       "      <td>1</td>\n",
       "      <td>0</td>\n",
       "      <td>0</td>\n",
       "      <td>0</td>\n",
       "      <td>3301</td>\n",
       "    </tr>\n",
       "  </tbody>\n",
       "</table>\n",
       "</div>"
      ],
      "text/plain": [
       "      DB   ET   EX    HU   LO   PT   SD   SS   ST    TD    TS\n",
       " DB   61    0    0     0    0    8    0    0    0     7     0\n",
       " ET    0   16    0     2    0    0    0    0    0    23     3\n",
       " EX    0    0   23     1    0    0    0    0    0     6     6\n",
       " HU    0    3    2  2265    0    0    0    0    0     0     1\n",
       " LO    0    0    0     1    0    0    0    0    0     0     0\n",
       " PT    7    0    1     0    0  483    0    0    0    87     8\n",
       " SD    0    0    0     0    0    0    0    0    0     0     0\n",
       " SS    0    0    0     0    0    0    0    2    0     0     1\n",
       " ST    0    0    0     0    0    0    0    0    1     0     0\n",
       " TD    3   18    2     0    0   76    0    0    0  2181     0\n",
       " TS    0    4   13     1    0    8    1    0    0     0  3301"
      ]
     },
     "execution_count": 31,
     "metadata": {},
     "output_type": "execute_result"
    }
   ],
   "source": [
    "pd.DataFrame(confu, index=dtObj.classes_, columns=dtObj.classes_)"
   ]
  },
  {
   "cell_type": "code",
   "execution_count": 32,
   "id": "dd213c2d",
   "metadata": {},
   "outputs": [],
   "source": [
    "dtObj.class_weight"
   ]
  },
  {
   "cell_type": "code",
   "execution_count": 33,
   "id": "46da9f62",
   "metadata": {},
   "outputs": [],
   "source": [
    "from sklearn.metrics import accuracy_score"
   ]
  },
  {
   "cell_type": "code",
   "execution_count": 34,
   "id": "7e5cd989",
   "metadata": {},
   "outputs": [
    {
     "data": {
      "text/plain": [
       "0.9660329237189891"
      ]
     },
     "execution_count": 34,
     "metadata": {},
     "output_type": "execute_result"
    }
   ],
   "source": [
    "accuracy_score(testy, predictedy)"
   ]
  },
  {
   "cell_type": "code",
   "execution_count": 35,
   "id": "249a7541",
   "metadata": {},
   "outputs": [
    {
     "data": {
      "text/plain": [
       "array([' TS', ' HU', ' LO', ' TD', ' ET', ' DB', ' EX', ' ST', ' SS',\n",
       "       ' HU '], dtype=object)"
      ]
     },
     "execution_count": 35,
     "metadata": {},
     "output_type": "execute_result"
    }
   ],
   "source": [
    "testy.unique()"
   ]
  },
  {
   "cell_type": "code",
   "execution_count": 36,
   "id": "e5f25809",
   "metadata": {},
   "outputs": [
    {
     "data": {
      "text/plain": [
       " TS     3328\n",
       " TD     2280\n",
       " HU     2271\n",
       " LO      586\n",
       " DB       76\n",
       " ET       44\n",
       " EX       36\n",
       " SS        3\n",
       " ST        1\n",
       " HU        1\n",
       "Name: Status, dtype: int64"
      ]
     },
     "execution_count": 36,
     "metadata": {},
     "output_type": "execute_result"
    }
   ],
   "source": [
    "testy.value_counts()"
   ]
  },
  {
   "cell_type": "code",
   "execution_count": 37,
   "id": "b334c009",
   "metadata": {
    "scrolled": true
   },
   "outputs": [
    {
     "data": {
      "text/plain": [
       " TS    6748\n",
       " TD    4685\n",
       " HU    4494\n",
       " LO    1242\n",
       " DB     141\n",
       " ET     108\n",
       " EX      74\n",
       " PT       6\n",
       " ST       5\n",
       " SD       4\n",
       " SS       4\n",
       "Name: Status, dtype: int64"
      ]
     },
     "execution_count": 37,
     "metadata": {},
     "output_type": "execute_result"
    }
   ],
   "source": [
    "trainy.value_counts()"
   ]
  },
  {
   "cell_type": "code",
   "execution_count": 45,
   "id": "6441eb59",
   "metadata": {},
   "outputs": [],
   "source": [
    "from sklearn.metrics import balanced_accuracy_score"
   ]
  },
  {
   "cell_type": "code",
   "execution_count": 46,
   "id": "101aca1f",
   "metadata": {},
   "outputs": [
    {
     "name": "stderr",
     "output_type": "stream",
     "text": [
      "C:\\Users\\vijay\\anaconda3\\lib\\site-packages\\sklearn\\metrics\\_classification.py:1854: UserWarning: y_pred contains classes not in y_true\n",
      "  warnings.warn('y_pred contains classes not in y_true')\n"
     ]
    },
    {
     "data": {
      "text/plain": [
       "0.7241879538723717"
      ]
     },
     "execution_count": 46,
     "metadata": {},
     "output_type": "execute_result"
    }
   ],
   "source": [
    "balanced_accuracy_score(testy, predictedy)"
   ]
  },
  {
   "cell_type": "code",
   "execution_count": null,
   "id": "f3a7254f",
   "metadata": {},
   "outputs": [],
   "source": []
  },
  {
   "cell_type": "code",
   "execution_count": null,
   "id": "5e448d41",
   "metadata": {},
   "outputs": [],
   "source": []
  },
  {
   "cell_type": "code",
   "execution_count": 38,
   "id": "14f6e99a",
   "metadata": {},
   "outputs": [
    {
     "data": {
      "text/plain": [
       "0.9972588658557479"
      ]
     },
     "execution_count": 38,
     "metadata": {},
     "output_type": "execute_result"
    }
   ],
   "source": [
    "accuracy_score(trainy, dtObj.predict(trainx))"
   ]
  },
  {
   "cell_type": "code",
   "execution_count": 39,
   "id": "50b0113e",
   "metadata": {},
   "outputs": [
    {
     "data": {
      "text/plain": [
       "array([[ 140,    0,    0,    0,    1,    0,    0,    0,    0,    0,    0],\n",
       "       [   0,  101,    0,    0,    0,    0,    0,    0,    0,    7,    0],\n",
       "       [   0,    0,   74,    0,    0,    0,    0,    0,    0,    0,    0],\n",
       "       [   0,    0,    3, 4491,    0,    0,    0,    0,    0,    0,    0],\n",
       "       [   9,    0,    0,    0, 1231,    0,    0,    0,    0,    2,    0],\n",
       "       [   0,    0,    0,    0,    0,    6,    0,    0,    0,    0,    0],\n",
       "       [   0,    0,    0,    0,    0,    0,    4,    0,    0,    0,    0],\n",
       "       [   0,    0,    0,    0,    0,    0,    0,    4,    0,    0,    0],\n",
       "       [   0,    0,    0,    0,    0,    0,    0,    0,    5,    0,    0],\n",
       "       [   1,    3,    1,    0,   14,    0,    0,    0,    0, 4666,    0],\n",
       "       [   0,    2,    5,    0,    0,    0,    0,    0,    0,    0, 6741]],\n",
       "      dtype=int64)"
      ]
     },
     "execution_count": 39,
     "metadata": {},
     "output_type": "execute_result"
    }
   ],
   "source": [
    "confusion_matrix(trainy, dtObj.predict(trainx))"
   ]
  },
  {
   "cell_type": "code",
   "execution_count": 56,
   "id": "56ebdaa6",
   "metadata": {},
   "outputs": [],
   "source": [
    "from sklearn.ensemble import RandomForestClassifier"
   ]
  },
  {
   "cell_type": "code",
   "execution_count": 62,
   "id": "2984d9eb",
   "metadata": {},
   "outputs": [],
   "source": [
    "rfObj = RandomForestClassifier(n_estimators=200)"
   ]
  },
  {
   "cell_type": "code",
   "execution_count": 63,
   "id": "99e6ce3c",
   "metadata": {},
   "outputs": [
    {
     "data": {
      "text/plain": [
       "RandomForestClassifier(n_estimators=200)"
      ]
     },
     "execution_count": 63,
     "metadata": {},
     "output_type": "execute_result"
    }
   ],
   "source": [
    "rfObj.fit(trainx, trainy)"
   ]
  },
  {
   "cell_type": "code",
   "execution_count": 64,
   "id": "65c17c98",
   "metadata": {},
   "outputs": [],
   "source": [
    "rfPredictedy = rfObj.predict(testx)"
   ]
  },
  {
   "cell_type": "code",
   "execution_count": 65,
   "id": "90b13daf",
   "metadata": {},
   "outputs": [
    {
     "data": {
      "text/plain": [
       "0.9581497797356828"
      ]
     },
     "execution_count": 65,
     "metadata": {},
     "output_type": "execute_result"
    }
   ],
   "source": [
    "accuracy_score(rfPredictedy, testy)"
   ]
  },
  {
   "cell_type": "code",
   "execution_count": 66,
   "id": "c6f427b6",
   "metadata": {},
   "outputs": [
    {
     "name": "stderr",
     "output_type": "stream",
     "text": [
      "C:\\Users\\vijay\\anaconda3\\lib\\site-packages\\sklearn\\metrics\\_classification.py:1854: UserWarning: y_pred contains classes not in y_true\n",
      "  warnings.warn('y_pred contains classes not in y_true')\n"
     ]
    },
    {
     "data": {
      "text/plain": [
       "0.7241879538723717"
      ]
     },
     "execution_count": 66,
     "metadata": {},
     "output_type": "execute_result"
    }
   ],
   "source": [
    "balanced_accuracy_score(testy, predictedy)"
   ]
  },
  {
   "cell_type": "code",
   "execution_count": null,
   "id": "dd92523b",
   "metadata": {},
   "outputs": [],
   "source": [
    "#Here decision tree accuracy better than random forest decision tree, because dataset length is not big. \n",
    "#In bigger dataset, Random forest should perform better."
   ]
  }
 ],
 "metadata": {
  "kernelspec": {
   "display_name": "Python 3 (ipykernel)",
   "language": "python",
   "name": "python3"
  },
  "language_info": {
   "codemirror_mode": {
    "name": "ipython",
    "version": 3
   },
   "file_extension": ".py",
   "mimetype": "text/x-python",
   "name": "python",
   "nbconvert_exporter": "python",
   "pygments_lexer": "ipython3",
   "version": "3.9.7"
  }
 },
 "nbformat": 4,
 "nbformat_minor": 5
}
