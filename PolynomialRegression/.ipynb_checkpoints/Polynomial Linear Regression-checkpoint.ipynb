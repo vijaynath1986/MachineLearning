{
 "cells": [
  {
   "cell_type": "code",
   "execution_count": 281,
   "id": "01483822",
   "metadata": {},
   "outputs": [],
   "source": [
    "import numpy as np\n",
    "import pandas as pd\n",
    "import matplotlib.pyplot as plt\n",
    "import seaborn as sns"
   ]
  },
  {
   "cell_type": "code",
   "execution_count": 282,
   "id": "f4498b85",
   "metadata": {},
   "outputs": [],
   "source": [
    "from sklearn.datasets import load_boston"
   ]
  },
  {
   "cell_type": "code",
   "execution_count": 283,
   "id": "50f713e2",
   "metadata": {},
   "outputs": [],
   "source": [
    "bos = load_boston()"
   ]
  },
  {
   "cell_type": "code",
   "execution_count": 285,
   "id": "96875c34",
   "metadata": {},
   "outputs": [
    {
     "name": "stdout",
     "output_type": "stream",
     "text": [
      "['CRIM' 'ZN' 'INDUS' 'CHAS' 'NOX' 'RM' 'AGE' 'DIS' 'RAD' 'TAX' 'PTRATIO'\n",
      " 'B' 'LSTAT']\n"
     ]
    }
   ],
   "source": [
    "print(bos.feature_names)"
   ]
  },
  {
   "cell_type": "code",
   "execution_count": 126,
   "id": "ca4082b8",
   "metadata": {},
   "outputs": [
    {
     "name": "stdout",
     "output_type": "stream",
     "text": [
      ".. _boston_dataset:\n",
      "\n",
      "Boston house prices dataset\n",
      "---------------------------\n",
      "\n",
      "**Data Set Characteristics:**  \n",
      "\n",
      "    :Number of Instances: 506 \n",
      "\n",
      "    :Number of Attributes: 13 numeric/categorical predictive. Median Value (attribute 14) is usually the target.\n",
      "\n",
      "    :Attribute Information (in order):\n",
      "        - CRIM     per capita crime rate by town\n",
      "        - ZN       proportion of residential land zoned for lots over 25,000 sq.ft.\n",
      "        - INDUS    proportion of non-retail business acres per town\n",
      "        - CHAS     Charles River dummy variable (= 1 if tract bounds river; 0 otherwise)\n",
      "        - NOX      nitric oxides concentration (parts per 10 million)\n",
      "        - RM       average number of rooms per dwelling\n",
      "        - AGE      proportion of owner-occupied units built prior to 1940\n",
      "        - DIS      weighted distances to five Boston employment centres\n",
      "        - RAD      index of accessibility to radial highways\n",
      "        - TAX      full-value property-tax rate per $10,000\n",
      "        - PTRATIO  pupil-teacher ratio by town\n",
      "        - B        1000(Bk - 0.63)^2 where Bk is the proportion of black people by town\n",
      "        - LSTAT    % lower status of the population\n",
      "        - MEDV     Median value of owner-occupied homes in $1000's\n",
      "\n",
      "    :Missing Attribute Values: None\n",
      "\n",
      "    :Creator: Harrison, D. and Rubinfeld, D.L.\n",
      "\n",
      "This is a copy of UCI ML housing dataset.\n",
      "https://archive.ics.uci.edu/ml/machine-learning-databases/housing/\n",
      "\n",
      "\n",
      "This dataset was taken from the StatLib library which is maintained at Carnegie Mellon University.\n",
      "\n",
      "The Boston house-price data of Harrison, D. and Rubinfeld, D.L. 'Hedonic\n",
      "prices and the demand for clean air', J. Environ. Economics & Management,\n",
      "vol.5, 81-102, 1978.   Used in Belsley, Kuh & Welsch, 'Regression diagnostics\n",
      "...', Wiley, 1980.   N.B. Various transformations are used in the table on\n",
      "pages 244-261 of the latter.\n",
      "\n",
      "The Boston house-price data has been used in many machine learning papers that address regression\n",
      "problems.   \n",
      "     \n",
      ".. topic:: References\n",
      "\n",
      "   - Belsley, Kuh & Welsch, 'Regression diagnostics: Identifying Influential Data and Sources of Collinearity', Wiley, 1980. 244-261.\n",
      "   - Quinlan,R. (1993). Combining Instance-Based and Model-Based Learning. In Proceedings on the Tenth International Conference of Machine Learning, 236-243, University of Massachusetts, Amherst. Morgan Kaufmann.\n",
      "\n"
     ]
    }
   ],
   "source": [
    "print(bos.DESCR)"
   ]
  },
  {
   "cell_type": "code",
   "execution_count": 127,
   "id": "cb2d5000",
   "metadata": {},
   "outputs": [],
   "source": [
    "x = bos.data"
   ]
  },
  {
   "cell_type": "code",
   "execution_count": 128,
   "id": "bd8eb0e3",
   "metadata": {},
   "outputs": [],
   "source": [
    "y= bos.target"
   ]
  },
  {
   "cell_type": "code",
   "execution_count": 129,
   "id": "b3857531",
   "metadata": {},
   "outputs": [
    {
     "data": {
      "text/plain": [
       "(506,)"
      ]
     },
     "execution_count": 129,
     "metadata": {},
     "output_type": "execute_result"
    }
   ],
   "source": [
    "y.shape"
   ]
  },
  {
   "cell_type": "code",
   "execution_count": 130,
   "id": "3309cd6b",
   "metadata": {},
   "outputs": [
    {
     "data": {
      "text/plain": [
       "(506, 13)"
      ]
     },
     "execution_count": 130,
     "metadata": {},
     "output_type": "execute_result"
    }
   ],
   "source": [
    "x.shape"
   ]
  },
  {
   "cell_type": "code",
   "execution_count": 131,
   "id": "dd0c2cc5",
   "metadata": {},
   "outputs": [],
   "source": [
    "from sklearn.model_selection import train_test_split"
   ]
  },
  {
   "cell_type": "code",
   "execution_count": 132,
   "id": "843a02ba",
   "metadata": {},
   "outputs": [],
   "source": [
    "trainx, testx, trainy, testy = train_test_split(x,y, test_size=0.33, random_state=5)"
   ]
  },
  {
   "cell_type": "code",
   "execution_count": 133,
   "id": "a6ebbfc8",
   "metadata": {},
   "outputs": [
    {
     "data": {
      "text/plain": [
       "(339, 13)"
      ]
     },
     "execution_count": 133,
     "metadata": {},
     "output_type": "execute_result"
    }
   ],
   "source": [
    "trainx.shape"
   ]
  },
  {
   "cell_type": "code",
   "execution_count": 134,
   "id": "962e2505",
   "metadata": {},
   "outputs": [
    {
     "data": {
      "text/plain": [
       "(339,)"
      ]
     },
     "execution_count": 134,
     "metadata": {},
     "output_type": "execute_result"
    }
   ],
   "source": [
    "trainy.shape"
   ]
  },
  {
   "cell_type": "code",
   "execution_count": 135,
   "id": "956afa55",
   "metadata": {},
   "outputs": [],
   "source": [
    "from sklearn.linear_model import LinearRegression"
   ]
  },
  {
   "cell_type": "code",
   "execution_count": 136,
   "id": "f314dff6",
   "metadata": {},
   "outputs": [],
   "source": [
    "lrmodel = LinearRegression()"
   ]
  },
  {
   "cell_type": "code",
   "execution_count": 137,
   "id": "4851ee3b",
   "metadata": {},
   "outputs": [
    {
     "data": {
      "text/plain": [
       "LinearRegression()"
      ]
     },
     "execution_count": 137,
     "metadata": {},
     "output_type": "execute_result"
    }
   ],
   "source": [
    "lrmodel.fit(trainx, trainy)"
   ]
  },
  {
   "cell_type": "code",
   "execution_count": 138,
   "id": "2eb9ca00",
   "metadata": {},
   "outputs": [
    {
     "data": {
      "text/plain": [
       "array([-1.56381297e-01,  3.85490972e-02, -2.50629921e-02,  7.86439684e-01,\n",
       "       -1.29469121e+01,  4.00268857e+00, -1.16023395e-02, -1.36828811e+00,\n",
       "        3.41756915e-01, -1.35148823e-02, -9.88866034e-01,  1.20588215e-02,\n",
       "       -4.72644280e-01])"
      ]
     },
     "execution_count": 138,
     "metadata": {},
     "output_type": "execute_result"
    }
   ],
   "source": [
    "lrmodel.coef_"
   ]
  },
  {
   "cell_type": "code",
   "execution_count": 139,
   "id": "90983b88",
   "metadata": {},
   "outputs": [
    {
     "data": {
      "text/plain": [
       "32.85893263408592"
      ]
     },
     "execution_count": 139,
     "metadata": {},
     "output_type": "execute_result"
    }
   ],
   "source": [
    "lrmodel.intercept_"
   ]
  },
  {
   "cell_type": "code",
   "execution_count": 221,
   "id": "d4c7cd7a",
   "metadata": {},
   "outputs": [],
   "source": [
    "lrpredict = lrmodel.predict(testx)"
   ]
  },
  {
   "cell_type": "code",
   "execution_count": 222,
   "id": "041b51d4",
   "metadata": {},
   "outputs": [
    {
     "data": {
      "text/html": [
       "<div>\n",
       "<style scoped>\n",
       "    .dataframe tbody tr th:only-of-type {\n",
       "        vertical-align: middle;\n",
       "    }\n",
       "\n",
       "    .dataframe tbody tr th {\n",
       "        vertical-align: top;\n",
       "    }\n",
       "\n",
       "    .dataframe thead th {\n",
       "        text-align: right;\n",
       "    }\n",
       "</style>\n",
       "<table border=\"1\" class=\"dataframe\">\n",
       "  <thead>\n",
       "    <tr style=\"text-align: right;\">\n",
       "      <th></th>\n",
       "      <th>TestY</th>\n",
       "      <th>predicty</th>\n",
       "    </tr>\n",
       "  </thead>\n",
       "  <tbody>\n",
       "    <tr>\n",
       "      <th>0</th>\n",
       "      <td>37.6</td>\n",
       "      <td>37.467236</td>\n",
       "    </tr>\n",
       "    <tr>\n",
       "      <th>1</th>\n",
       "      <td>27.9</td>\n",
       "      <td>31.391547</td>\n",
       "    </tr>\n",
       "    <tr>\n",
       "      <th>2</th>\n",
       "      <td>22.6</td>\n",
       "      <td>27.120196</td>\n",
       "    </tr>\n",
       "    <tr>\n",
       "      <th>3</th>\n",
       "      <td>13.8</td>\n",
       "      <td>6.468433</td>\n",
       "    </tr>\n",
       "    <tr>\n",
       "      <th>4</th>\n",
       "      <td>35.2</td>\n",
       "      <td>33.629667</td>\n",
       "    </tr>\n",
       "    <tr>\n",
       "      <th>...</th>\n",
       "      <td>...</td>\n",
       "      <td>...</td>\n",
       "    </tr>\n",
       "    <tr>\n",
       "      <th>162</th>\n",
       "      <td>14.4</td>\n",
       "      <td>9.718369</td>\n",
       "    </tr>\n",
       "    <tr>\n",
       "      <th>163</th>\n",
       "      <td>35.4</td>\n",
       "      <td>34.705200</td>\n",
       "    </tr>\n",
       "    <tr>\n",
       "      <th>164</th>\n",
       "      <td>25.3</td>\n",
       "      <td>25.704102</td>\n",
       "    </tr>\n",
       "    <tr>\n",
       "      <th>165</th>\n",
       "      <td>18.3</td>\n",
       "      <td>20.154309</td>\n",
       "    </tr>\n",
       "    <tr>\n",
       "      <th>166</th>\n",
       "      <td>16.6</td>\n",
       "      <td>15.394658</td>\n",
       "    </tr>\n",
       "  </tbody>\n",
       "</table>\n",
       "<p>167 rows × 2 columns</p>\n",
       "</div>"
      ],
      "text/plain": [
       "     TestY   predicty\n",
       "0     37.6  37.467236\n",
       "1     27.9  31.391547\n",
       "2     22.6  27.120196\n",
       "3     13.8   6.468433\n",
       "4     35.2  33.629667\n",
       "..     ...        ...\n",
       "162   14.4   9.718369\n",
       "163   35.4  34.705200\n",
       "164   25.3  25.704102\n",
       "165   18.3  20.154309\n",
       "166   16.6  15.394658\n",
       "\n",
       "[167 rows x 2 columns]"
      ]
     },
     "execution_count": 222,
     "metadata": {},
     "output_type": "execute_result"
    }
   ],
   "source": [
    "pd.DataFrame({'TestY': testy, 'predicty':lrpredict})"
   ]
  },
  {
   "cell_type": "code",
   "execution_count": 142,
   "id": "c31dafd8",
   "metadata": {},
   "outputs": [],
   "source": [
    "from sklearn.metrics import mean_absolute_error"
   ]
  },
  {
   "cell_type": "code",
   "execution_count": 231,
   "id": "c70aebe6",
   "metadata": {},
   "outputs": [
    {
     "data": {
      "text/plain": [
       "3.455034932248345"
      ]
     },
     "execution_count": 231,
     "metadata": {},
     "output_type": "execute_result"
    }
   ],
   "source": [
    "mean_absolute_error(testy, lrpredict)"
   ]
  },
  {
   "cell_type": "code",
   "execution_count": 232,
   "id": "ea4c59b7",
   "metadata": {},
   "outputs": [
    {
     "data": {
      "text/plain": [
       "3.1219467952542708"
      ]
     },
     "execution_count": 232,
     "metadata": {},
     "output_type": "execute_result"
    }
   ],
   "source": [
    "mean_absolute_error(trainy, lrmodel.predict(trainx))"
   ]
  },
  {
   "cell_type": "code",
   "execution_count": 144,
   "id": "a65c3ad8",
   "metadata": {},
   "outputs": [],
   "source": [
    "from sklearn.metrics import mean_squared_error"
   ]
  },
  {
   "cell_type": "code",
   "execution_count": 226,
   "id": "7637d192",
   "metadata": {},
   "outputs": [
    {
     "data": {
      "text/plain": [
       "28.530458765974707"
      ]
     },
     "execution_count": 226,
     "metadata": {},
     "output_type": "execute_result"
    }
   ],
   "source": [
    "mean_squared_error(testy, lrpredict)"
   ]
  },
  {
   "cell_type": "code",
   "execution_count": 227,
   "id": "ffd75a91",
   "metadata": {},
   "outputs": [
    {
     "data": {
      "text/plain": [
       "19.54675847353467"
      ]
     },
     "execution_count": 227,
     "metadata": {},
     "output_type": "execute_result"
    }
   ],
   "source": [
    "mean_squared_error(trainy, lrmodel.predict(trainx))"
   ]
  },
  {
   "cell_type": "code",
   "execution_count": 146,
   "id": "4ca5ebc9",
   "metadata": {},
   "outputs": [],
   "source": [
    "from sklearn.metrics import mean_absolute_percentage_error"
   ]
  },
  {
   "cell_type": "code",
   "execution_count": 229,
   "id": "837809e0",
   "metadata": {
    "scrolled": true
   },
   "outputs": [
    {
     "data": {
      "text/plain": [
       "0.16913901404336654"
      ]
     },
     "execution_count": 229,
     "metadata": {},
     "output_type": "execute_result"
    }
   ],
   "source": [
    "mean_absolute_percentage_error(testy, lrpredict)"
   ]
  },
  {
   "cell_type": "code",
   "execution_count": 228,
   "id": "975094b7",
   "metadata": {},
   "outputs": [
    {
     "data": {
      "text/plain": [
       "0.15586898863730209"
      ]
     },
     "execution_count": 228,
     "metadata": {},
     "output_type": "execute_result"
    }
   ],
   "source": [
    "mean_absolute_percentage_error(trainy, lrmodel.predict(trainx))"
   ]
  },
  {
   "cell_type": "code",
   "execution_count": 148,
   "id": "1c8481ad",
   "metadata": {
    "scrolled": false
   },
   "outputs": [
    {
     "data": {
      "image/png": "[encoded data removed]",
      "text/plain": [
       "<Figure size 432x288 with 1 Axes>"
      ]
     },
     "metadata": {
      "needs_background": "light"
     },
     "output_type": "display_data"
    }
   ],
   "source": [
    "plt.scatter(testy, lrpredict)\n",
    "plt.xlim(0, 50)\n",
    "plt.ylim(0, 50)\n",
    "plt.xlabel(\"Real Value\")\n",
    "plt.ylabel(\"predicted value\")\n",
    "plt.plot([0, 50], [0, 50])\n",
    "plt.show()"
   ]
  },
  {
   "cell_type": "code",
   "execution_count": 280,
   "id": "1c95d1a9",
   "metadata": {},
   "outputs": [
    {
     "data": {
      "image/png": "[encoded data removed]",
      "text/plain": [
       "<Figure size 432x288 with 1 Axes>"
      ]
     },
     "metadata": {
      "needs_background": "light"
     },
     "output_type": "display_data"
    }
   ],
   "source": [
    "plt.scatter(trainy, lrmodel.predict(trainx))\n",
    "plt.xlim(0, 50)\n",
    "plt.ylim(0, 50)\n",
    "plt.xlabel(\"Real Training Y\")\n",
    "plt.ylabel(\"predicted Training Y\")\n",
    "plt.plot([0, 50], [0, 50])\n",
    "plt.show()"
   ]
  },
  {
   "cell_type": "code",
   "execution_count": 259,
   "id": "2a8424df",
   "metadata": {},
   "outputs": [],
   "source": [
    "from sklearn.preprocessing import PolynomialFeatures"
   ]
  },
  {
   "cell_type": "code",
   "execution_count": 260,
   "id": "4b5782a1",
   "metadata": {},
   "outputs": [],
   "source": [
    "poly = PolynomialFeatures(degree=2)"
   ]
  },
  {
   "cell_type": "code",
   "execution_count": 261,
   "id": "94730c4c",
   "metadata": {},
   "outputs": [],
   "source": [
    "transformed_trainx = poly.fit_transform(trainx)"
   ]
  },
  {
   "cell_type": "code",
   "execution_count": 262,
   "id": "03ef9013",
   "metadata": {},
   "outputs": [
    {
     "data": {
      "text/plain": [
       "['1',\n",
       " 'x0',\n",
       " 'x1',\n",
       " 'x2',\n",
       " 'x3',\n",
       " 'x4',\n",
       " 'x5',\n",
       " 'x6',\n",
       " 'x7',\n",
       " 'x8',\n",
       " 'x9',\n",
       " 'x10',\n",
       " 'x11',\n",
       " 'x12',\n",
       " 'x0^2',\n",
       " 'x0 x1',\n",
       " 'x0 x2',\n",
       " 'x0 x3',\n",
       " 'x0 x4',\n",
       " 'x0 x5',\n",
       " 'x0 x6',\n",
       " 'x0 x7',\n",
       " 'x0 x8',\n",
       " 'x0 x9',\n",
       " 'x0 x10',\n",
       " 'x0 x11',\n",
       " 'x0 x12',\n",
       " 'x1^2',\n",
       " 'x1 x2',\n",
       " 'x1 x3',\n",
       " 'x1 x4',\n",
       " 'x1 x5',\n",
       " 'x1 x6',\n",
       " 'x1 x7',\n",
       " 'x1 x8',\n",
       " 'x1 x9',\n",
       " 'x1 x10',\n",
       " 'x1 x11',\n",
       " 'x1 x12',\n",
       " 'x2^2',\n",
       " 'x2 x3',\n",
       " 'x2 x4',\n",
       " 'x2 x5',\n",
       " 'x2 x6',\n",
       " 'x2 x7',\n",
       " 'x2 x8',\n",
       " 'x2 x9',\n",
       " 'x2 x10',\n",
       " 'x2 x11',\n",
       " 'x2 x12',\n",
       " 'x3^2',\n",
       " 'x3 x4',\n",
       " 'x3 x5',\n",
       " 'x3 x6',\n",
       " 'x3 x7',\n",
       " 'x3 x8',\n",
       " 'x3 x9',\n",
       " 'x3 x10',\n",
       " 'x3 x11',\n",
       " 'x3 x12',\n",
       " 'x4^2',\n",
       " 'x4 x5',\n",
       " 'x4 x6',\n",
       " 'x4 x7',\n",
       " 'x4 x8',\n",
       " 'x4 x9',\n",
       " 'x4 x10',\n",
       " 'x4 x11',\n",
       " 'x4 x12',\n",
       " 'x5^2',\n",
       " 'x5 x6',\n",
       " 'x5 x7',\n",
       " 'x5 x8',\n",
       " 'x5 x9',\n",
       " 'x5 x10',\n",
       " 'x5 x11',\n",
       " 'x5 x12',\n",
       " 'x6^2',\n",
       " 'x6 x7',\n",
       " 'x6 x8',\n",
       " 'x6 x9',\n",
       " 'x6 x10',\n",
       " 'x6 x11',\n",
       " 'x6 x12',\n",
       " 'x7^2',\n",
       " 'x7 x8',\n",
       " 'x7 x9',\n",
       " 'x7 x10',\n",
       " 'x7 x11',\n",
       " 'x7 x12',\n",
       " 'x8^2',\n",
       " 'x8 x9',\n",
       " 'x8 x10',\n",
       " 'x8 x11',\n",
       " 'x8 x12',\n",
       " 'x9^2',\n",
       " 'x9 x10',\n",
       " 'x9 x11',\n",
       " 'x9 x12',\n",
       " 'x10^2',\n",
       " 'x10 x11',\n",
       " 'x10 x12',\n",
       " 'x11^2',\n",
       " 'x11 x12',\n",
       " 'x12^2']"
      ]
     },
     "execution_count": 262,
     "metadata": {},
     "output_type": "execute_result"
    }
   ],
   "source": [
    "poly.get_feature_names()"
   ]
  },
  {
   "cell_type": "code",
   "execution_count": 263,
   "id": "142ec04c",
   "metadata": {},
   "outputs": [
    {
     "data": {
      "text/plain": [
       "array([[1.00000000e+00, 1.11604000e+01, 0.00000000e+00, ...,\n",
       "        1.20670225e+04, 2.55620950e+03, 5.41492900e+02],\n",
       "       [1.00000000e+00, 5.66000000e-02, 0.00000000e+00, ...,\n",
       "        1.57529610e+05, 2.18295000e+03, 3.02500000e+01],\n",
       "       [1.00000000e+00, 4.55587000e+00, 0.00000000e+00, ...,\n",
       "        1.25812090e+05, 2.52546400e+03, 5.06944000e+01],\n",
       "       ...,\n",
       "       [1.00000000e+00, 1.78990000e-01, 0.00000000e+00, ...,\n",
       "        1.54677024e+05, 6.92190400e+03, 3.09760000e+02],\n",
       "       [1.00000000e+00, 2.29690000e-01, 0.00000000e+00, ...,\n",
       "        1.55922317e+05, 4.33172390e+03, 1.20340900e+02],\n",
       "       [1.00000000e+00, 1.06590000e-01, 8.00000000e+01, ...,\n",
       "        1.41406082e+05, 2.09454280e+03, 3.10249000e+01]])"
      ]
     },
     "execution_count": 263,
     "metadata": {},
     "output_type": "execute_result"
    }
   ],
   "source": [
    "transformed_trainx"
   ]
  },
  {
   "cell_type": "code",
   "execution_count": 264,
   "id": "2eae1345",
   "metadata": {},
   "outputs": [
    {
     "data": {
      "text/plain": [
       "(339, 105)"
      ]
     },
     "execution_count": 264,
     "metadata": {},
     "output_type": "execute_result"
    }
   ],
   "source": [
    "transformed_trainx.shape"
   ]
  },
  {
   "cell_type": "code",
   "execution_count": 265,
   "id": "bc2826e0",
   "metadata": {},
   "outputs": [],
   "source": [
    "transformed_testx = poly.fit_transform(testx)"
   ]
  },
  {
   "cell_type": "code",
   "execution_count": 266,
   "id": "4eb9ad79",
   "metadata": {},
   "outputs": [
    {
     "data": {
      "text/plain": [
       "(167, 105)"
      ]
     },
     "execution_count": 266,
     "metadata": {},
     "output_type": "execute_result"
    }
   ],
   "source": [
    "transformed_testx.shape"
   ]
  },
  {
   "cell_type": "code",
   "execution_count": 267,
   "id": "af5fdecf",
   "metadata": {},
   "outputs": [],
   "source": [
    "lrmodel_transformed = LinearRegression()"
   ]
  },
  {
   "cell_type": "code",
   "execution_count": 268,
   "id": "a50cc769",
   "metadata": {},
   "outputs": [],
   "source": [
    "lrmodel_fit = lrmodel_transformed.fit(transformed_trainx, train_y)"
   ]
  },
  {
   "cell_type": "code",
   "execution_count": 269,
   "id": "3de2cdb4",
   "metadata": {},
   "outputs": [],
   "source": [
    "lrmodel_predictedY = lrmodel_transformed.predict(transformed_testx)"
   ]
  },
  {
   "cell_type": "code",
   "execution_count": 270,
   "id": "8a349755",
   "metadata": {},
   "outputs": [
    {
     "data": {
      "text/plain": [
       "array([42.47162183, 27.39540966, 24.89346119,  9.66132138, 35.5365904 ,\n",
       "       10.1204709 , 23.02406385, 27.84150133, 24.5189183 , 23.06530026,\n",
       "       33.18555644, 21.37005857, 19.20988821, 33.97279913, 27.27116622,\n",
       "       22.11911999, 16.29272576, 10.50622752, 16.1865009 , 17.02215755,\n",
       "       10.27244158, 20.44233903, 45.02112222, 23.24360432, 31.27909867,\n",
       "        8.80610107, 25.05098365, 21.63057676, 24.31224088, 29.07770917,\n",
       "       16.46394166, 10.65511411, 16.2591058 , 13.8468345 , 24.90249069,\n",
       "       22.73823655, 31.67047267, 11.21217926, 48.13571093, 35.54303864,\n",
       "       20.2022141 , 14.94909934, 28.25718846, 13.99858865, 27.63865687,\n",
       "       27.87765485, 21.35779889, 19.07500056, 19.89502059, 15.26096996,\n",
       "       21.80378143, 23.11398568, 22.28860219, 13.05746055, 16.62846401,\n",
       "       24.98446328, 41.20875242, 14.49281823, 30.38605207, 21.95764026,\n",
       "       18.92557379, 24.1737213 , 12.46756171, 35.82209463, 30.04673103,\n",
       "        9.13821883, 18.09128082, 24.99361351, 19.17484952, 24.58969864,\n",
       "       17.87478212, 23.74730533, 20.59825637, 16.74538555, 25.28837769,\n",
       "       32.91947895, 20.05169586, 16.93508174, 32.60359531, 18.31537435,\n",
       "       25.13674081, 46.92553254, 13.22206352, 15.07966035, 17.80597001,\n",
       "       13.33209615, 17.44733369, 10.8759126 , 20.73918182, 25.866671  ,\n",
       "       44.93511432, 16.10806216, 23.1961939 , 16.17231264, 22.70816329,\n",
       "       27.79009213,  5.46662749, 28.8187616 , 20.86374153, 15.06746561,\n",
       "       24.95184317, 22.11237724, 13.59649193, 44.86657642, 18.44700582,\n",
       "       14.9018057 , 13.54869083, 44.89398061, 21.4002977 ,  9.69595165,\n",
       "       24.31121234, 21.86175646, 17.31954177, 31.97254754, 14.984889  ,\n",
       "       26.76293507, 22.17493689, 21.31377033, 21.48824186, 17.96989844,\n",
       "       20.65666139, 38.62850757, 24.43404242, 16.92585154, 22.29971029,\n",
       "       28.20941657, 21.61275915, 19.52859939, 20.13701852, 48.04367584,\n",
       "       47.81964175, 31.88861154,  6.40662061, 16.77563257, 11.76979892,\n",
       "       21.75309205, 20.08272257,  7.86533154, 21.5337211 , 27.98752747,\n",
       "       18.25265871, -2.16385553,  9.56754842, 18.73676735, 32.63256208,\n",
       "       37.14128995, 23.08517001, 16.15573093, 21.76578841, 26.60973568,\n",
       "       12.47727254, 51.86441939,  9.57201607, 11.26564415, 30.35244739,\n",
       "       30.97876245, 13.16687008, 24.66523021, 31.60137733, 33.43241076,\n",
       "       15.40968023, 32.93591729, 22.45622479, 34.58351534, 23.22564938,\n",
       "       19.25902679, 15.03071964])"
      ]
     },
     "execution_count": 270,
     "metadata": {},
     "output_type": "execute_result"
    }
   ],
   "source": [
    "lrmodel_predictedY"
   ]
  },
  {
   "cell_type": "code",
   "execution_count": 271,
   "id": "9e751134",
   "metadata": {},
   "outputs": [
    {
     "data": {
      "text/plain": [
       "array([37.6, 27.9, 22.6, 13.8, 35.2, 10.4, 23.9, 29. , 22.8, 23.2, 33.2,\n",
       "       19. , 20.3, 36.1, 24.4, 17.2, 17.9, 19.6, 19.7, 15. ,  8.1, 23. ,\n",
       "       44.8, 23.1, 32.2, 10.8, 23.1, 21.2, 22.2, 24.1, 17.3,  7. , 12.7,\n",
       "       17.8, 26.4, 19.6, 25.1,  8.3, 48.8, 34.9, 13.8, 14.4, 30.1, 12.7,\n",
       "       27.1, 24.8,  7. , 20.5, 21.5, 14. , 20.4, 22.2, 21.4, 13.5, 19.4,\n",
       "       24.7, 43.8, 14.1, 28.6, 19.7, 16.8, 23.2, 16.2, 41.3, 22.7,  8.3,\n",
       "       18.4, 24.7, 21.7, 20.6, 16.7, 22.1, 19.4, 27.5, 27.9, 30.1, 17.4,\n",
       "       15.4, 31. , 14.2, 19.6, 50. , 21.7, 11.7, 19.4, 13. , 17.5,  9.7,\n",
       "       20.3, 18.6, 50. , 19.6, 21.4, 18.4, 22.6, 25. , 15.6, 26.6, 22.4,\n",
       "       13.1, 23. , 24.5, 13.1, 50. ,  8.8, 20.6, 12.1, 50. , 24.1, 16.1,\n",
       "       23.9, 24.3, 13.1, 30.3, 15.2, 13.8, 26.4, 16.6, 18.9, 17.6, 18.7,\n",
       "       33.4, 20.7, 17.1, 23.4, 26.5, 21.4, 21.5, 19.2, 50. , 50. , 23. ,\n",
       "       10.5, 17.8, 10.9, 21. , 13.8, 10.5, 22.2, 30.5, 19.4, 15.6, 20.2,\n",
       "       19.3, 34.6, 50. , 24. , 18.7, 19.8, 22.5, 13.3, 50. , 11.8, 11. ,\n",
       "       23.7, 35.4, 15.2, 24.4, 33.4, 31.6, 13.4, 34.9, 14.4, 35.4, 25.3,\n",
       "       18.3, 16.6])"
      ]
     },
     "execution_count": 271,
     "metadata": {},
     "output_type": "execute_result"
    }
   ],
   "source": [
    "testy"
   ]
  },
  {
   "cell_type": "code",
   "execution_count": 272,
   "id": "7bc315eb",
   "metadata": {},
   "outputs": [
    {
     "data": {
      "text/plain": [
       "2.8449484870928448"
      ]
     },
     "execution_count": 272,
     "metadata": {},
     "output_type": "execute_result"
    }
   ],
   "source": [
    "mean_absolute_error(testy, lrmodel_predictedY)"
   ]
  },
  {
   "cell_type": "code",
   "execution_count": 273,
   "id": "f335d6d3",
   "metadata": {},
   "outputs": [
    {
     "data": {
      "text/plain": [
       "1.6135541691953783"
      ]
     },
     "execution_count": 273,
     "metadata": {},
     "output_type": "execute_result"
    }
   ],
   "source": [
    "mean_absolute_error(trainy, lrmodel_transformed.predict(transformed_trainx))"
   ]
  },
  {
   "cell_type": "code",
   "execution_count": 274,
   "id": "958ee622",
   "metadata": {},
   "outputs": [
    {
     "data": {
      "text/plain": [
       "16.613354512519212"
      ]
     },
     "execution_count": 274,
     "metadata": {},
     "output_type": "execute_result"
    }
   ],
   "source": [
    "mean_squared_error(testy, lrmodel_predictedY)"
   ]
  },
  {
   "cell_type": "code",
   "execution_count": 275,
   "id": "9b0f48b0",
   "metadata": {},
   "outputs": [
    {
     "data": {
      "text/plain": [
       "5.295470605990869"
      ]
     },
     "execution_count": 275,
     "metadata": {},
     "output_type": "execute_result"
    }
   ],
   "source": [
    "mean_squared_error(trainy, lrmodel_transformed.predict(transformed_trainx))"
   ]
  },
  {
   "cell_type": "code",
   "execution_count": 276,
   "id": "9d9c7ca4",
   "metadata": {},
   "outputs": [
    {
     "data": {
      "text/plain": [
       "0.15775662482909164"
      ]
     },
     "execution_count": 276,
     "metadata": {},
     "output_type": "execute_result"
    }
   ],
   "source": [
    "mean_absolute_percentage_error(testy, lrmodel_predictedY)"
   ]
  },
  {
   "cell_type": "code",
   "execution_count": 277,
   "id": "e147255e",
   "metadata": {},
   "outputs": [
    {
     "data": {
      "text/plain": [
       "0.08145725345095885"
      ]
     },
     "execution_count": 277,
     "metadata": {},
     "output_type": "execute_result"
    }
   ],
   "source": [
    "mean_absolute_percentage_error(trainy, lrmodel_transformed.predict(transformed_trainx))"
   ]
  },
  {
   "cell_type": "code",
   "execution_count": 278,
   "id": "d3b6a84b",
   "metadata": {},
   "outputs": [
    {
     "data": {
      "image/png": "[encoded data removed]",
      "text/plain": [
       "<Figure size 432x288 with 1 Axes>"
      ]
     },
     "metadata": {
      "needs_background": "light"
     },
     "output_type": "display_data"
    }
   ],
   "source": [
    "plt.scatter(testy, lrmodel_predictedY)\n",
    "plt.xlim(0, 50)\n",
    "plt.ylim(0, 50)\n",
    "plt.xlabel(\"Real Value\")\n",
    "plt.ylabel(\"predicted value\")\n",
    "plt.plot([0, 50], [0, 50])\n",
    "plt.show()"
   ]
  },
  {
   "cell_type": "code",
   "execution_count": 286,
   "id": "fccd3f88",
   "metadata": {},
   "outputs": [
    {
     "data": {
      "image/png": "[encoded data removed]",
      "text/plain": [
       "<Figure size 432x288 with 1 Axes>"
      ]
     },
     "metadata": {
      "needs_background": "light"
     },
     "output_type": "display_data"
    }
   ],
   "source": [
    "plt.scatter(trainy, lrmodel_transformed.predict(transformed_trainx))\n",
    "plt.xlim(0, 50)\n",
    "plt.ylim(0, 50)\n",
    "plt.xlabel(\"Real Value\")\n",
    "plt.ylabel(\"predicted value\")\n",
    "plt.plot([0, 50], [0, 50])\n",
    "plt.show()"
   ]
  },
  {
   "cell_type": "code",
   "execution_count": null,
   "id": "095f8667",
   "metadata": {},
   "outputs": [],
   "source": []
  }
 ],
 "metadata": {
  "kernelspec": {
   "display_name": "Python 3 (ipykernel)",
   "language": "python",
   "name": "python3"
  },
  "language_info": {
   "codemirror_mode": {
    "name": "ipython",
    "version": 3
   },
   "file_extension": ".py",
   "mimetype": "text/x-python",
   "name": "python",
   "nbconvert_exporter": "python",
   "pygments_lexer": "ipython3",
   "version": "3.9.12"
  }
 },
 "nbformat": 4,
 "nbformat_minor": 5
}
